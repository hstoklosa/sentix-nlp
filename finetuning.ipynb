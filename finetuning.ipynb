{
  "cells": [
    {
      "cell_type": "markdown",
      "metadata": {
        "id": "0ZiHKMGqyu2-"
      },
      "source": [
        "# Fine-tuning CryptoBERT Model (Sentiment Analysis)"
      ]
    },
    {
      "cell_type": "code",
      "execution_count": 42,
      "metadata": {
        "colab": {
          "base_uri": "https://localhost:8080/"
        },
        "id": "8Lstjv9Wyu3A",
        "outputId": "7c4ba34f-a1bd-4f28-d398-af2f9ccef04e"
      },
      "outputs": [
        {
          "output_type": "stream",
          "name": "stdout",
          "text": [
            "Mounted at /content/drive\n"
          ]
        }
      ],
      "source": [
        "from google.colab import drive\n",
        "drive.mount('/content/drive', force_remount=True)"
      ]
    },
    {
      "cell_type": "code",
      "source": [
        "import os\n",
        "import sys\n",
        "\n",
        "# PATH CONSTANTS\n",
        "ABSOLUTE_PATH = \"/content/drive/My Drive/sentix_nlp\"\n",
        "PREPROCESSED_DATA_DIR = ABSOLUTE_PATH + \"/data/preprocessed\"\n",
        "EXPORT_MODEL_DIR = ABSOLUTE_PATH + \"/model\"\n",
        "\n",
        "sys.path.insert(0, ABSOLUTE_PATH)"
      ],
      "metadata": {
        "id": "qdFUdSQM_J5u"
      },
      "execution_count": 43,
      "outputs": []
    },
    {
      "cell_type": "code",
      "source": [
        "!pip install --upgrade transformers"
      ],
      "metadata": {
        "colab": {
          "base_uri": "https://localhost:8080/"
        },
        "id": "TjUceqLt6Ihk",
        "outputId": "58e2192f-393c-409c-9e39-e12842e2a7f9"
      },
      "execution_count": 44,
      "outputs": [
        {
          "output_type": "stream",
          "name": "stdout",
          "text": [
            "Requirement already satisfied: transformers in /usr/local/lib/python3.11/dist-packages (4.51.3)\n",
            "Requirement already satisfied: filelock in /usr/local/lib/python3.11/dist-packages (from transformers) (3.18.0)\n",
            "Requirement already satisfied: huggingface-hub<1.0,>=0.30.0 in /usr/local/lib/python3.11/dist-packages (from transformers) (0.30.2)\n",
            "Requirement already satisfied: numpy>=1.17 in /usr/local/lib/python3.11/dist-packages (from transformers) (2.0.2)\n",
            "Requirement already satisfied: packaging>=20.0 in /usr/local/lib/python3.11/dist-packages (from transformers) (24.2)\n",
            "Requirement already satisfied: pyyaml>=5.1 in /usr/local/lib/python3.11/dist-packages (from transformers) (6.0.2)\n",
            "Requirement already satisfied: regex!=2019.12.17 in /usr/local/lib/python3.11/dist-packages (from transformers) (2024.11.6)\n",
            "Requirement already satisfied: requests in /usr/local/lib/python3.11/dist-packages (from transformers) (2.32.3)\n",
            "Requirement already satisfied: tokenizers<0.22,>=0.21 in /usr/local/lib/python3.11/dist-packages (from transformers) (0.21.1)\n",
            "Requirement already satisfied: safetensors>=0.4.3 in /usr/local/lib/python3.11/dist-packages (from transformers) (0.5.3)\n",
            "Requirement already satisfied: tqdm>=4.27 in /usr/local/lib/python3.11/dist-packages (from transformers) (4.67.1)\n",
            "Requirement already satisfied: fsspec>=2023.5.0 in /usr/local/lib/python3.11/dist-packages (from huggingface-hub<1.0,>=0.30.0->transformers) (2025.3.2)\n",
            "Requirement already satisfied: typing-extensions>=3.7.4.3 in /usr/local/lib/python3.11/dist-packages (from huggingface-hub<1.0,>=0.30.0->transformers) (4.13.2)\n",
            "Requirement already satisfied: charset-normalizer<4,>=2 in /usr/local/lib/python3.11/dist-packages (from requests->transformers) (3.4.1)\n",
            "Requirement already satisfied: idna<4,>=2.5 in /usr/local/lib/python3.11/dist-packages (from requests->transformers) (3.10)\n",
            "Requirement already satisfied: urllib3<3,>=1.21.1 in /usr/local/lib/python3.11/dist-packages (from requests->transformers) (2.4.0)\n",
            "Requirement already satisfied: certifi>=2017.4.17 in /usr/local/lib/python3.11/dist-packages (from requests->transformers) (2025.4.26)\n"
          ]
        }
      ]
    },
    {
      "cell_type": "code",
      "execution_count": 45,
      "metadata": {
        "id": "fagHABoMyu3B"
      },
      "outputs": [],
      "source": [
        "import pandas as pd\n",
        "import numpy as np\n",
        "import matplotlib.pyplot as plt\n",
        "import seaborn as sns\n",
        "\n",
        "import torch\n",
        "import torch.nn as nn\n",
        "from torch.utils.data import Dataset\n",
        "from transformers import (\n",
        "  AutoModelForSequenceClassification,\n",
        "  AutoTokenizer,\n",
        "  Trainer,\n",
        "  TrainingArguments\n",
        ")\n",
        "\n",
        "from tqdm import tqdm\n",
        "from sklearn.utils.class_weight import compute_class_weight\n",
        "from sklearn.metrics import (\n",
        "  classification_report,\n",
        "  confusion_matrix,\n",
        "  ConfusionMatrixDisplay,\n",
        "  accuracy_score,\n",
        "  f1_score\n",
        ")\n",
        "\n",
        "\n",
        "# MODEL CONSTANTS\n",
        "MODEL_NAME=\"ElKulako/cryptobert\"\n",
        "NUM_LABELS=3\n",
        "BATCH_SIZE=32\n",
        "NUM_EPOCHS=3\n",
        "LEARNING_RATE=2e-5\n",
        "WEIGHT_DECAY=0.01\n",
        "WARMUP_STEPS=2\n"
      ]
    },
    {
      "cell_type": "markdown",
      "metadata": {
        "id": "VUP36Vfeyu3C"
      },
      "source": [
        "## Load the model and tokenizer"
      ]
    },
    {
      "cell_type": "code",
      "execution_count": 46,
      "metadata": {
        "id": "5RphILRnyu3C"
      },
      "outputs": [],
      "source": [
        "tokenizer = AutoTokenizer.from_pretrained(MODEL_NAME)\n",
        "model = AutoModelForSequenceClassification.from_pretrained(\n",
        "    MODEL_NAME, num_labels=NUM_LABELS)"
      ]
    },
    {
      "cell_type": "markdown",
      "source": [
        "### Switch to CUDA"
      ],
      "metadata": {
        "id": "qAbcX1Dc0Mvg"
      }
    },
    {
      "cell_type": "code",
      "source": [
        "device = torch.device(\"cuda\" if torch.cuda.is_available() else \"cpu\")\n",
        "model.to(device)"
      ],
      "metadata": {
        "colab": {
          "base_uri": "https://localhost:8080/"
        },
        "id": "0cmW0gFP0Ikg",
        "outputId": "356658ef-9a4a-41d2-ab6c-a598bbac47e6"
      },
      "execution_count": 47,
      "outputs": [
        {
          "output_type": "execute_result",
          "data": {
            "text/plain": [
              "RobertaForSequenceClassification(\n",
              "  (roberta): RobertaModel(\n",
              "    (embeddings): RobertaEmbeddings(\n",
              "      (word_embeddings): Embedding(50265, 768, padding_idx=1)\n",
              "      (position_embeddings): Embedding(514, 768, padding_idx=1)\n",
              "      (token_type_embeddings): Embedding(1, 768)\n",
              "      (LayerNorm): LayerNorm((768,), eps=1e-05, elementwise_affine=True)\n",
              "      (dropout): Dropout(p=0.1, inplace=False)\n",
              "    )\n",
              "    (encoder): RobertaEncoder(\n",
              "      (layer): ModuleList(\n",
              "        (0-11): 12 x RobertaLayer(\n",
              "          (attention): RobertaAttention(\n",
              "            (self): RobertaSdpaSelfAttention(\n",
              "              (query): Linear(in_features=768, out_features=768, bias=True)\n",
              "              (key): Linear(in_features=768, out_features=768, bias=True)\n",
              "              (value): Linear(in_features=768, out_features=768, bias=True)\n",
              "              (dropout): Dropout(p=0.1, inplace=False)\n",
              "            )\n",
              "            (output): RobertaSelfOutput(\n",
              "              (dense): Linear(in_features=768, out_features=768, bias=True)\n",
              "              (LayerNorm): LayerNorm((768,), eps=1e-05, elementwise_affine=True)\n",
              "              (dropout): Dropout(p=0.1, inplace=False)\n",
              "            )\n",
              "          )\n",
              "          (intermediate): RobertaIntermediate(\n",
              "            (dense): Linear(in_features=768, out_features=3072, bias=True)\n",
              "            (intermediate_act_fn): GELUActivation()\n",
              "          )\n",
              "          (output): RobertaOutput(\n",
              "            (dense): Linear(in_features=3072, out_features=768, bias=True)\n",
              "            (LayerNorm): LayerNorm((768,), eps=1e-05, elementwise_affine=True)\n",
              "            (dropout): Dropout(p=0.1, inplace=False)\n",
              "          )\n",
              "        )\n",
              "      )\n",
              "    )\n",
              "  )\n",
              "  (classifier): RobertaClassificationHead(\n",
              "    (dense): Linear(in_features=768, out_features=768, bias=True)\n",
              "    (dropout): Dropout(p=0.1, inplace=False)\n",
              "    (out_proj): Linear(in_features=768, out_features=3, bias=True)\n",
              "  )\n",
              ")"
            ]
          },
          "metadata": {},
          "execution_count": 47
        }
      ]
    },
    {
      "cell_type": "markdown",
      "metadata": {
        "id": "w-nGa3j8yu3C"
      },
      "source": [
        "## Load the preprocessed data"
      ]
    },
    {
      "cell_type": "code",
      "source": [
        "class NewsDataset(Dataset):\n",
        "    def __init__(self, texts, labels, tokenizer, max_length=128):\n",
        "        self.texts = texts\n",
        "        self.labels = labels\n",
        "        self.tokenizer = tokenizer\n",
        "        self.max_length = max_length\n",
        "\n",
        "    def __len__(self):\n",
        "        return len(self.texts)\n",
        "\n",
        "    def __getitem__(self, idx):\n",
        "        text = str(self.texts[idx])\n",
        "        label = self.labels[idx]\n",
        "\n",
        "        encoding = self.tokenizer(\n",
        "            text,\n",
        "            add_special_tokens=True,\n",
        "            max_length=self.max_length,\n",
        "            padding='max_length',\n",
        "            truncation=True,\n",
        "            return_attention_mask=True,\n",
        "            return_tensors='pt'\n",
        "        )\n",
        "\n",
        "        return {\n",
        "            'input_ids': encoding['input_ids'].flatten(),\n",
        "            'attention_mask': encoding['attention_mask'].flatten(),\n",
        "            'labels': torch.tensor(label, dtype=torch.long)\n",
        "        }"
      ],
      "metadata": {
        "id": "etJPNb8n0Dhk"
      },
      "execution_count": 48,
      "outputs": []
    },
    {
      "cell_type": "code",
      "execution_count": 49,
      "metadata": {
        "id": "HPoFKEyWyu3C",
        "colab": {
          "base_uri": "https://localhost:8080/",
          "height": 204
        },
        "outputId": "54e0a0f9-0b20-478f-b6a4-d1aebc5fefee"
      },
      "outputs": [
        {
          "output_type": "execute_result",
          "data": {
            "text/plain": [
              "                                           full_text  label\n",
              "0  raydium price analysis & prediction april 13 –...      2\n",
              "1  us bitcoin acquisition could propel prices to ...      2\n",
              "2  unveiling limits: trade representative’s bold ...      1\n",
              "3  when will cardano ada break the 1 barrier?. ca...      0\n",
              "4  cathie wood’s ark buys over 13m worth coinbase...      2"
            ],
            "text/html": [
              "\n",
              "  <div id=\"df-4f85cb78-1262-420b-b6eb-521b281921a7\" class=\"colab-df-container\">\n",
              "    <div>\n",
              "<style scoped>\n",
              "    .dataframe tbody tr th:only-of-type {\n",
              "        vertical-align: middle;\n",
              "    }\n",
              "\n",
              "    .dataframe tbody tr th {\n",
              "        vertical-align: top;\n",
              "    }\n",
              "\n",
              "    .dataframe thead th {\n",
              "        text-align: right;\n",
              "    }\n",
              "</style>\n",
              "<table border=\"1\" class=\"dataframe\">\n",
              "  <thead>\n",
              "    <tr style=\"text-align: right;\">\n",
              "      <th></th>\n",
              "      <th>full_text</th>\n",
              "      <th>label</th>\n",
              "    </tr>\n",
              "  </thead>\n",
              "  <tbody>\n",
              "    <tr>\n",
              "      <th>0</th>\n",
              "      <td>raydium price analysis &amp; prediction april 13 –...</td>\n",
              "      <td>2</td>\n",
              "    </tr>\n",
              "    <tr>\n",
              "      <th>1</th>\n",
              "      <td>us bitcoin acquisition could propel prices to ...</td>\n",
              "      <td>2</td>\n",
              "    </tr>\n",
              "    <tr>\n",
              "      <th>2</th>\n",
              "      <td>unveiling limits: trade representative’s bold ...</td>\n",
              "      <td>1</td>\n",
              "    </tr>\n",
              "    <tr>\n",
              "      <th>3</th>\n",
              "      <td>when will cardano ada break the 1 barrier?. ca...</td>\n",
              "      <td>0</td>\n",
              "    </tr>\n",
              "    <tr>\n",
              "      <th>4</th>\n",
              "      <td>cathie wood’s ark buys over 13m worth coinbase...</td>\n",
              "      <td>2</td>\n",
              "    </tr>\n",
              "  </tbody>\n",
              "</table>\n",
              "</div>\n",
              "    <div class=\"colab-df-buttons\">\n",
              "\n",
              "  <div class=\"colab-df-container\">\n",
              "    <button class=\"colab-df-convert\" onclick=\"convertToInteractive('df-4f85cb78-1262-420b-b6eb-521b281921a7')\"\n",
              "            title=\"Convert this dataframe to an interactive table.\"\n",
              "            style=\"display:none;\">\n",
              "\n",
              "  <svg xmlns=\"http://www.w3.org/2000/svg\" height=\"24px\" viewBox=\"0 -960 960 960\">\n",
              "    <path d=\"M120-120v-720h720v720H120Zm60-500h600v-160H180v160Zm220 220h160v-160H400v160Zm0 220h160v-160H400v160ZM180-400h160v-160H180v160Zm440 0h160v-160H620v160ZM180-180h160v-160H180v160Zm440 0h160v-160H620v160Z\"/>\n",
              "  </svg>\n",
              "    </button>\n",
              "\n",
              "  <style>\n",
              "    .colab-df-container {\n",
              "      display:flex;\n",
              "      gap: 12px;\n",
              "    }\n",
              "\n",
              "    .colab-df-convert {\n",
              "      background-color: #E8F0FE;\n",
              "      border: none;\n",
              "      border-radius: 50%;\n",
              "      cursor: pointer;\n",
              "      display: none;\n",
              "      fill: #1967D2;\n",
              "      height: 32px;\n",
              "      padding: 0 0 0 0;\n",
              "      width: 32px;\n",
              "    }\n",
              "\n",
              "    .colab-df-convert:hover {\n",
              "      background-color: #E2EBFA;\n",
              "      box-shadow: 0px 1px 2px rgba(60, 64, 67, 0.3), 0px 1px 3px 1px rgba(60, 64, 67, 0.15);\n",
              "      fill: #174EA6;\n",
              "    }\n",
              "\n",
              "    .colab-df-buttons div {\n",
              "      margin-bottom: 4px;\n",
              "    }\n",
              "\n",
              "    [theme=dark] .colab-df-convert {\n",
              "      background-color: #3B4455;\n",
              "      fill: #D2E3FC;\n",
              "    }\n",
              "\n",
              "    [theme=dark] .colab-df-convert:hover {\n",
              "      background-color: #434B5C;\n",
              "      box-shadow: 0px 1px 3px 1px rgba(0, 0, 0, 0.15);\n",
              "      filter: drop-shadow(0px 1px 2px rgba(0, 0, 0, 0.3));\n",
              "      fill: #FFFFFF;\n",
              "    }\n",
              "  </style>\n",
              "\n",
              "    <script>\n",
              "      const buttonEl =\n",
              "        document.querySelector('#df-4f85cb78-1262-420b-b6eb-521b281921a7 button.colab-df-convert');\n",
              "      buttonEl.style.display =\n",
              "        google.colab.kernel.accessAllowed ? 'block' : 'none';\n",
              "\n",
              "      async function convertToInteractive(key) {\n",
              "        const element = document.querySelector('#df-4f85cb78-1262-420b-b6eb-521b281921a7');\n",
              "        const dataTable =\n",
              "          await google.colab.kernel.invokeFunction('convertToInteractive',\n",
              "                                                    [key], {});\n",
              "        if (!dataTable) return;\n",
              "\n",
              "        const docLinkHtml = 'Like what you see? Visit the ' +\n",
              "          '<a target=\"_blank\" href=https://colab.research.google.com/notebooks/data_table.ipynb>data table notebook</a>'\n",
              "          + ' to learn more about interactive tables.';\n",
              "        element.innerHTML = '';\n",
              "        dataTable['output_type'] = 'display_data';\n",
              "        await google.colab.output.renderOutput(dataTable, element);\n",
              "        const docLink = document.createElement('div');\n",
              "        docLink.innerHTML = docLinkHtml;\n",
              "        element.appendChild(docLink);\n",
              "      }\n",
              "    </script>\n",
              "  </div>\n",
              "\n",
              "\n",
              "    <div id=\"df-b7c722a7-d44f-482e-84a1-60458fc7df13\">\n",
              "      <button class=\"colab-df-quickchart\" onclick=\"quickchart('df-b7c722a7-d44f-482e-84a1-60458fc7df13')\"\n",
              "                title=\"Suggest charts\"\n",
              "                style=\"display:none;\">\n",
              "\n",
              "<svg xmlns=\"http://www.w3.org/2000/svg\" height=\"24px\"viewBox=\"0 0 24 24\"\n",
              "     width=\"24px\">\n",
              "    <g>\n",
              "        <path d=\"M19 3H5c-1.1 0-2 .9-2 2v14c0 1.1.9 2 2 2h14c1.1 0 2-.9 2-2V5c0-1.1-.9-2-2-2zM9 17H7v-7h2v7zm4 0h-2V7h2v10zm4 0h-2v-4h2v4z\"/>\n",
              "    </g>\n",
              "</svg>\n",
              "      </button>\n",
              "\n",
              "<style>\n",
              "  .colab-df-quickchart {\n",
              "      --bg-color: #E8F0FE;\n",
              "      --fill-color: #1967D2;\n",
              "      --hover-bg-color: #E2EBFA;\n",
              "      --hover-fill-color: #174EA6;\n",
              "      --disabled-fill-color: #AAA;\n",
              "      --disabled-bg-color: #DDD;\n",
              "  }\n",
              "\n",
              "  [theme=dark] .colab-df-quickchart {\n",
              "      --bg-color: #3B4455;\n",
              "      --fill-color: #D2E3FC;\n",
              "      --hover-bg-color: #434B5C;\n",
              "      --hover-fill-color: #FFFFFF;\n",
              "      --disabled-bg-color: #3B4455;\n",
              "      --disabled-fill-color: #666;\n",
              "  }\n",
              "\n",
              "  .colab-df-quickchart {\n",
              "    background-color: var(--bg-color);\n",
              "    border: none;\n",
              "    border-radius: 50%;\n",
              "    cursor: pointer;\n",
              "    display: none;\n",
              "    fill: var(--fill-color);\n",
              "    height: 32px;\n",
              "    padding: 0;\n",
              "    width: 32px;\n",
              "  }\n",
              "\n",
              "  .colab-df-quickchart:hover {\n",
              "    background-color: var(--hover-bg-color);\n",
              "    box-shadow: 0 1px 2px rgba(60, 64, 67, 0.3), 0 1px 3px 1px rgba(60, 64, 67, 0.15);\n",
              "    fill: var(--button-hover-fill-color);\n",
              "  }\n",
              "\n",
              "  .colab-df-quickchart-complete:disabled,\n",
              "  .colab-df-quickchart-complete:disabled:hover {\n",
              "    background-color: var(--disabled-bg-color);\n",
              "    fill: var(--disabled-fill-color);\n",
              "    box-shadow: none;\n",
              "  }\n",
              "\n",
              "  .colab-df-spinner {\n",
              "    border: 2px solid var(--fill-color);\n",
              "    border-color: transparent;\n",
              "    border-bottom-color: var(--fill-color);\n",
              "    animation:\n",
              "      spin 1s steps(1) infinite;\n",
              "  }\n",
              "\n",
              "  @keyframes spin {\n",
              "    0% {\n",
              "      border-color: transparent;\n",
              "      border-bottom-color: var(--fill-color);\n",
              "      border-left-color: var(--fill-color);\n",
              "    }\n",
              "    20% {\n",
              "      border-color: transparent;\n",
              "      border-left-color: var(--fill-color);\n",
              "      border-top-color: var(--fill-color);\n",
              "    }\n",
              "    30% {\n",
              "      border-color: transparent;\n",
              "      border-left-color: var(--fill-color);\n",
              "      border-top-color: var(--fill-color);\n",
              "      border-right-color: var(--fill-color);\n",
              "    }\n",
              "    40% {\n",
              "      border-color: transparent;\n",
              "      border-right-color: var(--fill-color);\n",
              "      border-top-color: var(--fill-color);\n",
              "    }\n",
              "    60% {\n",
              "      border-color: transparent;\n",
              "      border-right-color: var(--fill-color);\n",
              "    }\n",
              "    80% {\n",
              "      border-color: transparent;\n",
              "      border-right-color: var(--fill-color);\n",
              "      border-bottom-color: var(--fill-color);\n",
              "    }\n",
              "    90% {\n",
              "      border-color: transparent;\n",
              "      border-bottom-color: var(--fill-color);\n",
              "    }\n",
              "  }\n",
              "</style>\n",
              "\n",
              "      <script>\n",
              "        async function quickchart(key) {\n",
              "          const quickchartButtonEl =\n",
              "            document.querySelector('#' + key + ' button');\n",
              "          quickchartButtonEl.disabled = true;  // To prevent multiple clicks.\n",
              "          quickchartButtonEl.classList.add('colab-df-spinner');\n",
              "          try {\n",
              "            const charts = await google.colab.kernel.invokeFunction(\n",
              "                'suggestCharts', [key], {});\n",
              "          } catch (error) {\n",
              "            console.error('Error during call to suggestCharts:', error);\n",
              "          }\n",
              "          quickchartButtonEl.classList.remove('colab-df-spinner');\n",
              "          quickchartButtonEl.classList.add('colab-df-quickchart-complete');\n",
              "        }\n",
              "        (() => {\n",
              "          let quickchartButtonEl =\n",
              "            document.querySelector('#df-b7c722a7-d44f-482e-84a1-60458fc7df13 button');\n",
              "          quickchartButtonEl.style.display =\n",
              "            google.colab.kernel.accessAllowed ? 'block' : 'none';\n",
              "        })();\n",
              "      </script>\n",
              "    </div>\n",
              "\n",
              "    </div>\n",
              "  </div>\n"
            ],
            "application/vnd.google.colaboratory.intrinsic+json": {
              "type": "dataframe",
              "variable_name": "df",
              "summary": "{\n  \"name\": \"df\",\n  \"rows\": 14946,\n  \"fields\": [\n    {\n      \"column\": \"full_text\",\n      \"properties\": {\n        \"dtype\": \"string\",\n        \"num_unique_values\": 14946,\n        \"samples\": [\n          \"dogecoin keeps jumping between key support levels; meanwhile, yetio touches 3.3m in presale acquisitions.. dogecoin doge price is under 0.20 , a market capitalization of approximately 28 billion, and is a decent distance from its all-time high of 0.73. while the prevailing market is more in the musk-popular doge's favour, the currency still reflects shaky trends for a range of reasons. while that's the case, yeti ouro yetio hit 3.3 million in its about-to-conclude stage 3 presale purchases. dogecoin price prediction: doge keeps floating in the murky waters dogecoin price is oscillating in the range of major support and resistance levels of 0.137 - 0.142 and 0.160 - 0.165. as a result, it has formed a downwards-facing bear flag pattern, which has already gone beneath the initial doge support level and may return to major support shortly. short-term doge buys may be available at the moment or shortly after the daily candle closes higher than the main resistance level. with the launch of several upcoming exchange-traded fund etf proposals, the one-time meme coin is heading toward increased adoption in the financial establishment. 21shares has filed a spot etf application supported by both the dogecoin foundation and coinbase. bitwise has also proposed its own application, and grayscale is offering investment through the dogecoin trust, which is aimed at institutional clients. if these doge etfs are approved, they may be able to draw considerable quantities of institutional investment with long-term arrangements that involve simpler processes, eliminating the use of digital wallets or outright management risks. dogecoin price fell from 0.169 to 0.155 in four days, a decrease of about 9%. the price drop indicates that traders are selling during the recoveries, which is a negative sign for the outlook. on the other hand, big traders, or whales, are adding to their doge positions. analyst ali martinez reported that such traders picked up more than 800 million doge in 48 hours . the action implies that educated traders are speculating doge\\u2019s recovery while most retail traders panic. yetio gears up for stage 4 presale yeti ouro yetio is a new crypto project that encapsulates meme coin charm with actual usability through its alignment with a play-to-earn gaming platform. the project has already collected 3.3 million+ during this third presale stage, and at the time of writing, 215,921,824 tokens of yetio have been sold. yetio is differentiated from other meme coins by its 1b token supply cap and deflationary tokenomics, with 5% of yetio\\u2019s supply set to be burned to drive token value higher as time passes. the presale price is at the moment 0.024/token, a 100% return for initial adopters who bought in at the stage 1 price of 0.012. yeti ouro is turning up the heat this easter weekend with a limited-time 30% bonus on all token purchases. available now through tuesday, april 22nd, 2025, this exclusive offer comes as stage 3 enters its final stretch\\u2014just 5 days remain. with a confirmed steeper price increase ahead in stage 4, now is the ideal moment to stock up on tokens and stay ahead of the curve before the next phase begins. further to this yeti ouro is calling on its community to get creative with a character design contest to shape the next in-game character. the winning entry will be forever featured in the yeti go universe, with the creator receiving full recognition and a 1,000 reward in yetio tokens. plus, ten runners-up will each score 250 in tokens. head over to yeti go\\u2019s official x platform for all the entry details. yeti go\\u2014yetio\\u2019s usp play-to-earn creation yetio's main value lies in yeti go, a go-kart game based on unreal engine 5 that supports play-to-earn p2e mechanisms. players are rewarded with yetio tokens when they complete missions and win tournaments. yeti go takes immersive gaming to the next level, combining breathtaking visuals with expertly crafted sound for an experience that\\u2019s as cinematic as it is thrilling. created in collaboration with the acclaimed studio behind legendary titles like call of duty, spider-man, the witcher, and dead space, the game is built to impress from every angle. its soundscape\\u2014shaped by audio specialists who\\u2019ve worked with grammy-nominated artists including major lazer, vybz kartel, and kabaka pyramid\\u2014adds emotion, energy, and atmosphere to every scene. unlike doge, yetio\\u2019s tokenomics model distributes 50% of yetio to presale, 15% to play-to-earn rewards, and 15% to community rewards, with the rest allocated to burns, the project team, liquidity, and marketing. doge vs. yetio: where should you hedge your bets? compared to doge, yetio is the better choice because of its utility-driven play-to-earn platform and restricted token supply. unlike doge's volatile price, yetio tokenomics with mechanisms to burn may drive value higher. early presale prices also give more potential for upside compared to the established market cap value of doge. investors need to be vigilant regarding the untested record of yetio and the overall volatility of cryptocurrency investments. join the yeti ouro community website x formerly twitter telegram discord disclaimer: this is a sponsored article and is for informational purposes only. it does not reflect the views of crypto daily, nor is it intended to be used as legal, tax, investment, or financial advice.\",\n          \"could btc maintain above 80k amid weak market conditions and accumulation trends?. as bitcoin btc navigates turbulent market conditions, its ability to maintain stability above the 80,000 mark raises critical questions. despite signs of waning retail interest, significant whale accumulation has been\",\n          \"xrp news: first 2x leveraged xrp etf hits nyse this week!. the post xrp news: first 2x leveraged xrp etf hits nyse this week! appeared first on coinpedia fintech news the cryptocurrency market is on the verge of a major development. teucrium investment advisors is preparing to launch the first-ever 2x leveraged xrp etf in the united states, marking a significant moment for both the company and the broader crypto space. the new fund, called xxrp, will begin trading on nyse arca starting april 8. it offers investors double the daily returns of xrp. that means if xrp rises by 5% in a single day, xxrp would deliver a 10% return. however, the same applies to losses, making this etf a high-risk, high-reward product. following the announcement, xrp\\u2019s price rose 6% , reaching 1.90 as investor excitement grew around the launch. how xxrp stands out unlike standard etfs, xxrp is designed for short-term traders who want to take advantage of daily price movements in xrp. teucrium has set a management fee of 1.85%, along with an annual expense ratio. at launch, the fund will hold 2 million in assets under management. sal gilbertie, ceo of teucrium, is optimistic about the fund\\u2019s potential. he pointed to strong investor interest in xrp and suggested that the company may roll out more crypto-related etfs in the near future. \\u201cif you strongly believe in xrp\\u2019s short-term price movements, this etf could be a great opportunity.\\u201d the timing of the launch is notable. xxrp is debuting during a period of broader market uncertainty, partly influenced by president donald trump\\u2019s new tariff policies. launching a leveraged etf in a downturn could be risky, but it also shows teucrium\\u2019s confidence in the long-term outlook for xrp. attention shifts to the spot xrp etf while the leveraged fund is making headlines, many in the industry are focused on whether a spot xrp etf will receive regulatory approval. major asset managers including wisdomtree, bitwise, 21shares, canary capital, and franklin templeton have submitted applications to the sec, which are currently under review. etf analyst eric balchunas from bloomberg noted that launching a leveraged etf before a spot version is unusual. however, he believes the chances of a spot xrp etf being approved remain high. a 2x xrp etf is launching tmrw in us, the first-ever xrp etf on the market. very odd maybe a first that a new asset\\u2019s first etf is leveraged. spot xrp still not approved, altho our odds are pretty high. story via \\u2066\\u2066 @isabelletanlee \\u2069 pic.twitter.com/eg4wq5y1qi \\u2014 eric balchunas @ericbalchunas april 7, 2025 estimates currently place the chance of approval for a spot xrp etf at 65% by 2025. meanwhile, prediction market polymarket gives it a higher likelihood, at around 75%. .article-inside-link { margin-left: 0 !important; border: 1px solid #0052cc4d; border-left: 0; border-right: 0; padding: 10px 0; text-align: left; } .entry ul.article-inside-link li { font-size: 14px; line-height: 21px; font-weight: 600; list-style-type: none; margin-bottom: 0; display: inline-block; } .entry ul.article-inside-link li:last-child { display: none; } also read : planning to invest in the us\\u2019 first xrp etf? here\\u2019s why teucrium says it could go to zero , xrp price: what comes next? since the announcement of xxrp, xrp has climbed to 1.90. technical indicators show strong support around 1.65. if xrp can break through resistance between 1.95 and 2.00, analysts believe it could climb further to 2.60. on the other hand, if it fails to move past that resistance, a pullback to around 1.69 is possible. with markets shaky and eyes on the sec, this could be one of those turning points people look back on and say, \\u2018that\\u2019s when things got interesting.\\u2019 .article_register_shortcode { padding: 18px 24px; border-radius: 8px; display: flex; align-items: center; margin: 6px 0 22px; border: 1px solid #0052cc4d; background: linear-gradient90deg, rgba255, 255, 255, 0.1 0%, rgba0, 82, 204, 0.1 100%; } .article_register_shortcode .media-body h5 { color: #000000; font-weight: 600; font-size: 20px; line-height: 22px; text-align:left; } .article_register_shortcode .media-body h5 span { color: #0052cc; } .article_register_shortcode .media-body p { font-weight: 400; font-size: 14px; line-height: 22px; color: #171717b2; margin-top: 4px; text-align:left; } .article_register_shortcode .media-body{ padding-right: 14px; } .article_register_shortcode .media-button a { float: right; } .article_register_shortcode .primary-button img{ vertical-align: middle; width: 20px; margin: 0; display: inline-block; } @media min-width: 581px and max-width: 991px { .article_register_shortcode .media-body p { margin-bottom: 0; } } @media max-width: 580px { .article_register_shortcode { display: block; padding: 20px; } .article_register_shortcode img { max-width: 50px; } .article_register_shortcode .media-body h5 { font-size: 16px; } .article_register_shortcode .media-body { margin-left: 0px; } .article_register_shortcode .media-body p { font-size: 13px; line-height: 20px; margin-top: 6px; margin-bottom: 14px; } .article_register_shortcode .media-button a { float: unset; } .article_register_shortcode .secondary-button { margin-bottom: 0; } } never miss a beat in the crypto world! stay ahead with breaking news, expert analysis, and real-time updates on the latest trends in bitcoin, altcoins, defi, nfts, and more. .subscription-options li { display: none; } .research-report-subscribe{ background-color: #0052cc; padding: 12px 20px; border-radius: 8px; color: #fff; font-weight: 500; font-size: 14px; width: 96%; } .research-report-subscribe img{ vertical-align: sub; margin-right: 2px; } subscribe to news var templateids = \\\"6\\\"; var listofsubscribed = []; function subscribed_popupmodaltemplate_id { var templateid = '6'; getallsubscribercategorylist[templateid]; var subcribemodal = window.parent.document.getelementbyid'subscribe-modal-design'; if subcribemodal { var modalcontent = ` never miss a beat in the crypto world! stay informed and gain the edge you need to navigate the crypto world. select your subscription now daily get real-time crypto news, market insights, and blockchain updates. weekly stay updated with major trends, funding news, and price analysis. monthly receive a detailed report with market analysis and expert predictions. subscribe now `; subcribemodal.innerhtml = modalcontent; } subscribe_unsubscribe_statustemplate_id; //getallsubscribercategorylisttemplate_id; } function togglesubscriptionsubscription, template_id { var subscriptioncheckbox = document.getelementbyidsubscription + '_' + template_id; var li = document.getelementbyidsubscription + 'selected_' + template_id; if subscriptioncheckbox.checked { li.classlist.add'active'; } else { li.classlist.remove'active'; } } function getallsubscribercategorylistgetcategoryid { jquery.ajax{ url: ' type: 'get', data: { action: 'subscribe_api_ajax_request', apiurl: '/app/email_newsletter/list', }, success: functionresponse { var result = json.parseresponse.message; if result.status === true { var idstosubscribed = [] // populate listofsubscribed with subscribed category ids result.message.foreachlistofcategory => { if listofcategory.subscribe_status === 1 { if !listofsubscribed.includeslistofcategory._id { listofsubscribed.pushlistofcategory._id; } if !idstosubscribed.includeslistofcategory.news_cp_category_row_id { idstosubscribed.pushlistofcategory.news_cp_category_row_id; } } }; idstosubscribed.foreachid => { var subscribebutton = document.getelementbyid'subscribe_' + id; var unsubscribebutton = document.getelementbyid'unsubscribe_' + id; if subscribebutton && unsubscribebutton { subscribebutton.style.display = 'none'; unsubscribebutton.style.display = 'block'; var showdownloadreport = document.getelementbyid'download_report'; if showdownloadreport { showdownloadreport.style.display = 'block'; } } }; } }, error: functionxhr, status, error { console.error'error:', error; } }; } function subscribe_unsubscribe_statusgetcategoryid { var elementtounsubscribe = parent.document.getelementbyid'unsubscribe_' + getcategoryid; var elementtosubscribe = parent.document.getelementbyid'subscribe_' + getcategoryid; jquery.ajax{ url: ' type: 'post', data: { action: 'subscribe_api_ajax_request', apiurl: '/app/email_newsletter/list?category_row_id=' + getcategoryid, }, success: functionresponse { var result = json.parseresponse.message; if result.status === true { parent.jquery'.skeliton-loader-block'.hide; var hassubscribestatusone = false; result.message.foreachsubscribestatus => { if listofsubscribed.includessubscribestatus._id && subscribestatus.subscribe_status === 1 { hassubscribestatusone = true; } if subscribestatus.notification_type === 3 { parent.document.getelementbyid'monthlyselected_' + getcategoryid.style.display = 'block'; parent.document.getelementbyid'monthly_' + getcategoryid.setattribute'data-id', subscribestatus._id; if subscribestatus.subscribe_status === 1 { parent.document.getelementbyid'monthly_' + getcategoryid.checked = true; } } else if subscribestatus.notification_type === 2 { parent.document.getelementbyid'weeklyselected_' + getcategoryid.style.display = 'block'; parent.document.getelementbyid'weekly_' + getcategoryid.setattribute'data-id', subscribestatus._id; if subscribestatus.subscribe_status === 1 { parent.document.getelementbyid'weekly_' + getcategoryid.checked = true; } } else if subscribestatus.notification_type === 1 { parent.document.getelementbyid'dailyselected_' + getcategoryid.style.display = 'block'; parent.document.getelementbyid'daily_' + getcategoryid.setattribute'data-id', subscribestatus._id; if subscribestatus.subscribe_status === 1 { parent.document.getelementbyid'daily_' + getcategoryid.checked = true; } } if subscribestatus.subscribe_status === 1 { listofsubscribed.pushsubscribestatus._id; } }; if hassubscribestatusone { elementtosubscribe.style.display = 'none'; elementtounsubscribe.style.display = 'block'; } else { elementtosubscribe.style.display = 'block'; elementtounsubscribe.style.display = 'none'; } } }, error: functionxhr, status, error { console.error'error:', error; } }; } function logselectedsubscriptionscategoryid { var unsubscribemodal = document.queryselector'.unsubscribed-popup-modal .modal'; var subscribedmodal = document.queryselector'.subscribed-popup-modal .modal'; unsubscribemodal.innerhtml=''; subscribedmodal.innerhtml=''; var selectedsubscriptions = []; var storecheckedid = []; var checkboxes = document.queryselectorall'#subscription-options-' + categoryid + ' input[type=\\\"checkbox\\\"]'; var errormessage = document.getelementbyid'error-message-select'; // use a set to handle unique data-ids var uniquesubscribedids = new setlistofsubscribed; checkboxes.foreachfunctioncheckbox { var dataid = parseintcheckbox.getattribute'data-id'; if checkbox.checked { selectedsubscriptions.pushcheckbox.id; storecheckedid.pushdataid; } else { uniquesubscribedids.deletedataid; // remove unchecked data-id } }; // update listofsubscribed with unique values listofsubscribed = array.fromuniquesubscribedids; var selectedsubscriptionsstring = selectedsubscriptions.join', '; var concatinatesubscribeid = [...new setstorecheckedid.concatlistofsubscribed]; var categorydata = { 'subscribed_categories': concatinatesubscribeid }; var requestsubscriberdata = { action: 'handle_dynamic_api_request_with_headers', security: 'd9649188c0', endpoint: '/app/email_newsletter/update_categories', token: '', data: categorydata }; jquery.ajax{ url: ' type: 'post', data: requestsubscriberdata, beforesend: functionxhr { xhr.setrequestheader'x-requested-with', 'xmlhttprequest'; }, success: functionresponse { try { response = response.data; if storecheckedid.length === 0 { var unsubcribedpopupmodal = ` you\\u2019ve unsubscribed successfully we're sorry to see you go! your subscription has been canceled. if you change your mind, you can re-subscribe anytime. thank you for being part of our community! `; unsubscribemodal.innerhtml = unsubcribedpopupmodal; document.queryselector'#subscribe-modal-design .modal'.style.display = 'none'; unsubscribemodal.style.display = 'block'; unsubscribemodal.classlist.remove'hide'; unsubscribemodal.classlist.add'show'; document.getelementbyid'subscribe_' + categoryid.style.display = 'block'; document.getelementbyid'unsubscribe_' + categoryid.style.display = 'none'; var showdownloadreport = document.getelementbyid'download_report'; if showdownloadreport { showdownloadreport.style.display = 'none'; } } else { var subscribedpopupmodal = ` thank you for subscribing! thank you for subscribing to our crypto and blockchain newsletter! you\\u2019ll now receive the latest news, insights, and updates straight to your inbox. welcome to our community! `; let selectedsubscriptionsarray = selectedsubscriptionsstring.split','; let subscribedcategories = selectedsubscriptionsarray.mapsubscription => subscription.split'_'[0]; let subscribedcategoriesstring = subscribedcategories.join', '; subscribedmodal.innerhtml = subscribedpopupmodal; if document.getelementbyid'selectidname' { document.getelementbyid'selectidname'.textcontent = subscribedcategoriesstring; } document.queryselector'#subscribe-modal-design .modal'.style.display = 'none'; subscribedmodal.style.display = 'block'; subscribedmodal.classlist.remove'hide'; subscribedmodal.classlist.add'show'; document.getelementbyid'subscribe_' + categoryid.style.display = 'none'; document.getelementbyid'unsubscribe_' + categoryid.style.display = 'block'; var showdownloadreport = document.getelementbyid'download_report'; if showdownloadreport { showdownloadreport.style.display = 'block'; } } } catch e { console.error'error parsing response:', e; } }, }; } function closemodaltemplate_id { var modalid = template_id; var modal = document.queryselector'#' + modalid; // using queryselector to find the modal if modal { modal.classlist.add'hide'; modal.classlist.remove'show'; settimeoutfunction { modal.style.display = 'none'; }, 500; } else { console.warn'modal not found:', modalid; } } function closeunsubscribemodal { var unsubscribemodal = document.queryselector'.unsubscribed-popup-modal .modal'; if unsubscribemodal { unsubscribemodal.classlist.add'hide'; unsubscribemodal.classlist.remove'show'; } settimeoutfunction { unsubscribemodal.style.display = 'none'; }, 500; } function closesubscribemodal { var subscribedmodal = document.queryselector'.subscribed-popup-modal .modal'; settimeoutfunction { subscribedmodal.style.display = 'none'; }, 500; if subscribedmodal { subscribedmodal.classlist.add'hide'; subscribedmodal.classlist.remove'show'; } } function withoutloginclickedwithoutlogin_id { localstorage.setitem'subscribe_without_login', 'true'; localstorage.setitem'subscribe_clicked_id', withoutlogin_id; } document.addeventlistener'domcontentloaded', function { const subscribewithoutdata = localstorage.getitem'subscribe_without_login'; const subscribe_clicked_cat_id = localstorage.getitem'subscribe_clicked_id'; // function to get cookies function getcookiename { let value = \\\"; \\\" + document.cookie; let parts = value.split\\\"; \\\" + name + \\\"=\\\"; if parts.length == 2 return parts.pop.split\\\";\\\".shift; } // get user token from cookies const usertoken = getcookie'user_token'; if subscribewithoutdata === 'true' && usertoken { // call the modal function with the category id subscribed_popupmodalsubscribe_clicked_cat_id; // remove the flag and category id from localstorage localstorage.removeitem'subscribe_without_login'; localstorage.removeitem'subscribe_clicked_id'; } }; /************************** update susbcriber content **************************** */ function initializesubscriptionbutton { var initiallistitems = document.queryselectorall'.subscription-options input[type=\\\"checkbox\\\"]'; initiallistitems.foreachfunctionitem { console.logitem.checked, 'initial checkbox checked status'; }; var listitems = document.queryselectorall'.subscription-options li'; if listitems.length === 0 return; var anyactive = false; listitems.foreachfunctionitem { var checkbox = item.queryselector'input[type=\\\"checkbox\\\"]'; if checkbox { if checkbox.checked { item.classlist.add'active'; anyactive = true; // set anyactive to true } else { item.classlist.remove'active'; // remove 'active' class if checkbox is unchecked } } }; } function updatebuttontextanyactive { var subscribebuttonspan = document.queryselector'.subscribe-submit .changebtntext'; if subscribebuttonspan { if anyactive { subscribebuttonspan.textcontent = 'subscribe now'; } else { subscribebuttonspan.textcontent = 'unsubscribe'; } } } function updatesubscriptionbutton { var listitems = document.queryselectorall'.subscription-options li'; if listitems.length === 0 return; var anyactive = false; listitems.foreachfunctionitem { var checkbox = item.queryselector'input[type=\\\"checkbox\\\"]'; if checkbox { if checkbox.checked { item.classlist.add'active'; anyactive = true; // set anyactive to true } else { item.classlist.remove'active'; // remove 'active' class if checkbox is unchecked } } }; // update the button text based on whether any list item has the 'active' class updatebuttontextanyactive; } document.addeventlistener'click', functionevent { var clickeditem = event.target.closest'.subscription-options li'; if clickeditem { var checkbox = clickeditem.queryselector'input[type=\\\"checkbox\\\"]'; if checkbox { checkbox.checked = !checkbox.checked; updatesubscriptionbutton; } } }; faqs what are the risks of investing in the xxrp etf? extreme volatility and daily compounding can lead to large losses, even in a single day. will a spot xrp etf be approved soon? analysts estimate a 65\\u201375% chance of approval by 2025, with interest from top asset managers.\"\n        ],\n        \"semantic_type\": \"\",\n        \"description\": \"\"\n      }\n    },\n    {\n      \"column\": \"label\",\n      \"properties\": {\n        \"dtype\": \"number\",\n        \"std\": 0,\n        \"min\": 0,\n        \"max\": 2,\n        \"num_unique_values\": 3,\n        \"samples\": [\n          2,\n          1,\n          0\n        ],\n        \"semantic_type\": \"\",\n        \"description\": \"\"\n      }\n    }\n  ]\n}"
            }
          },
          "metadata": {},
          "execution_count": 49
        }
      ],
      "source": [
        "test_set_path = os.path.join(PREPROCESSED_DATA_DIR, \"coindesk_test.csv\")\n",
        "train_set_path = os.path.join(PREPROCESSED_DATA_DIR, \"coindesk_train.csv\")\n",
        "val_set_path = os.path.join(PREPROCESSED_DATA_DIR, \"coindesk_val.csv\")\n",
        "\n",
        "train_df = pd.read_csv(train_set_path)\n",
        "val_df = pd.read_csv(val_set_path)\n",
        "test_df = pd.read_csv(test_set_path)\n",
        "\n",
        "df = pd.concat([train_df, val_df, test_df], ignore_index=True)\n",
        "df.head()"
      ]
    },
    {
      "cell_type": "code",
      "source": [
        "X_train, y_train = train_df['full_text'].values, train_df['label'].values\n",
        "train_dataset = NewsDataset(X_train, y_train, tokenizer)\n",
        "\n",
        "X_val, y_val = val_df['full_text'].values, val_df['label'].values\n",
        "val_dataset = NewsDataset(X_val, y_val, tokenizer)\n",
        "\n",
        "X_test, y_test = test_df['full_text'].values, test_df['label'].values\n",
        "test_dataset = NewsDataset(X_test, y_test, tokenizer)"
      ],
      "metadata": {
        "id": "ihFqIRLl2oGR"
      },
      "execution_count": 50,
      "outputs": []
    },
    {
      "cell_type": "markdown",
      "source": [
        "## Calculate class weights to handle imbalance"
      ],
      "metadata": {
        "id": "UkBpwMd0-N07"
      }
    },
    {
      "cell_type": "code",
      "source": [
        "class_weights = compute_class_weight(\n",
        "    class_weight='balanced',\n",
        "    classes=np.unique(train_df['label']),\n",
        "    y=train_df['label']\n",
        ")\n",
        "class_weights = torch.tensor(class_weights, dtype=torch.float).to(device)\n",
        "\n",
        "for i, weight in enumerate(class_weights):\n",
        "    print(f\"Class {i}: {weight:.4f}\")"
      ],
      "metadata": {
        "colab": {
          "base_uri": "https://localhost:8080/"
        },
        "id": "ENePnzwP-PUI",
        "outputId": "a63ef9ac-dd57-4acb-ce72-95ce4ab86592"
      },
      "execution_count": 51,
      "outputs": [
        {
          "output_type": "stream",
          "name": "stdout",
          "text": [
            "Class 0: 1.4893\n",
            "Class 1: 1.2778\n",
            "Class 2: 0.6469\n"
          ]
        }
      ]
    },
    {
      "cell_type": "markdown",
      "source": [
        "## Training"
      ],
      "metadata": {
        "id": "_8wjGv0U-cwF"
      }
    },
    {
      "cell_type": "code",
      "source": [
        "def compute_metrics(eval_pred):\n",
        "    logits, labels = eval_pred\n",
        "    preds = np.argmax(logits, axis=-1)\n",
        "    return {\n",
        "        \"accuracy\": accuracy_score(labels, preds),\n",
        "        \"f1\": f1_score(labels, preds, average=\"weighted\"),\n",
        "    }\n",
        "\n",
        "training_args = TrainingArguments(\n",
        "    output_dir=EXPORT_MODEL_DIR,\n",
        "    eval_strategy=\"epoch\",\n",
        "    save_strategy=\"epoch\",\n",
        "    learning_rate=LEARNING_RATE,\n",
        "    per_device_train_batch_size=BATCH_SIZE,\n",
        "    per_device_eval_batch_size=BATCH_SIZE*2,\n",
        "    num_train_epochs=NUM_EPOCHS,\n",
        "    warmup_steps=WARMUP_STEPS,\n",
        "    weight_decay=WEIGHT_DECAY,\n",
        "    metric_for_best_model=\"accuracy\",\n",
        "    load_best_model_at_end=True,\n",
        "    fp16=True,\n",
        "    report_to=[\"tensorboard\"], # no need for wandb\n",
        "    logging_dir=\"./logs\",\n",
        "    logging_steps=50,\n",
        ")\n",
        "\n",
        "\n",
        "# REF: https://discuss.huggingface.co/t/how-can-i-use-class-weights-when-training/1067/7\n",
        "class WeightedTrainer(Trainer):\n",
        "    def __init__(self, *args, class_weights=None, **kwargs):\n",
        "        super().__init__(*args, **kwargs)\n",
        "        self.class_weights = class_weights\n",
        "\n",
        "    # def compute_loss(self, model, inputs, return_outputs=False):\n",
        "    def compute_loss(self, model, inputs, return_outputs=False, **kwargs):\n",
        "        labels = inputs.pop(\"labels\")\n",
        "        outputs = model(**inputs)\n",
        "        logits = outputs.logits\n",
        "        loss_fct = nn.CrossEntropyLoss(weight=self.class_weights)\n",
        "        loss = loss_fct(logits.view(-1, model.config.num_labels), labels.view(-1))\n",
        "        return (loss, outputs) if return_outputs else loss\n",
        "\n",
        "trainer = WeightedTrainer(\n",
        "    model=model,\n",
        "    args=training_args,\n",
        "    train_dataset=train_dataset,\n",
        "    eval_dataset=val_dataset,\n",
        "    tokenizer=tokenizer,\n",
        "    # data_collator=data_collator,\n",
        "    compute_metrics=compute_metrics,\n",
        "    class_weights=class_weights\n",
        ")\n",
        "\n",
        "trainer.train()"
      ],
      "metadata": {
        "colab": {
          "base_uri": "https://localhost:8080/",
          "height": 236
        },
        "id": "i-SO6GAg0X8y",
        "outputId": "3b6e35a0-1337-4609-f9aa-a78aa6d997dd"
      },
      "execution_count": 52,
      "outputs": [
        {
          "output_type": "stream",
          "name": "stderr",
          "text": [
            "<ipython-input-52-025ac616b4a3>:31: FutureWarning: `tokenizer` is deprecated and will be removed in version 5.0.0 for `WeightedTrainer.__init__`. Use `processing_class` instead.\n",
            "  super().__init__(*args, **kwargs)\n"
          ]
        },
        {
          "output_type": "display_data",
          "data": {
            "text/plain": [
              "<IPython.core.display.HTML object>"
            ],
            "text/html": [
              "\n",
              "    <div>\n",
              "      \n",
              "      <progress value='1122' max='1122' style='width:300px; height:20px; vertical-align: middle;'></progress>\n",
              "      [1122/1122 06:43, Epoch 3/3]\n",
              "    </div>\n",
              "    <table border=\"1\" class=\"dataframe\">\n",
              "  <thead>\n",
              " <tr style=\"text-align: left;\">\n",
              "      <th>Epoch</th>\n",
              "      <th>Training Loss</th>\n",
              "      <th>Validation Loss</th>\n",
              "      <th>Accuracy</th>\n",
              "      <th>F1</th>\n",
              "    </tr>\n",
              "  </thead>\n",
              "  <tbody>\n",
              "    <tr>\n",
              "      <td>1</td>\n",
              "      <td>0.498300</td>\n",
              "      <td>0.499270</td>\n",
              "      <td>0.807358</td>\n",
              "      <td>0.811836</td>\n",
              "    </tr>\n",
              "    <tr>\n",
              "      <td>2</td>\n",
              "      <td>0.339000</td>\n",
              "      <td>0.564458</td>\n",
              "      <td>0.826087</td>\n",
              "      <td>0.821650</td>\n",
              "    </tr>\n",
              "    <tr>\n",
              "      <td>3</td>\n",
              "      <td>0.219300</td>\n",
              "      <td>0.611404</td>\n",
              "      <td>0.824749</td>\n",
              "      <td>0.825293</td>\n",
              "    </tr>\n",
              "  </tbody>\n",
              "</table><p>"
            ]
          },
          "metadata": {}
        },
        {
          "output_type": "execute_result",
          "data": {
            "text/plain": [
              "TrainOutput(global_step=1122, training_loss=0.40209506624735186, metrics={'train_runtime': 404.7656, 'train_samples_per_second': 88.614, 'train_steps_per_second': 2.772, 'total_flos': 2359338016766976.0, 'train_loss': 0.40209506624735186, 'epoch': 3.0})"
            ]
          },
          "metadata": {},
          "execution_count": 52
        }
      ]
    },
    {
      "cell_type": "markdown",
      "source": [
        "## Evaluate on the test set"
      ],
      "metadata": {
        "id": "NKA6_tyU2K-O"
      }
    },
    {
      "cell_type": "code",
      "source": [
        "test_results = trainer.evaluate(test_dataset)\n",
        "test_results"
      ],
      "metadata": {
        "colab": {
          "base_uri": "https://localhost:8080/",
          "height": 156
        },
        "id": "VPv_s4GK2OcV",
        "outputId": "c3ace7df-34f6-42e6-ceda-75324632d6ba"
      },
      "execution_count": 53,
      "outputs": [
        {
          "output_type": "display_data",
          "data": {
            "text/plain": [
              "<IPython.core.display.HTML object>"
            ],
            "text/html": [
              "\n",
              "    <div>\n",
              "      \n",
              "      <progress value='24' max='24' style='width:300px; height:20px; vertical-align: middle;'></progress>\n",
              "      [24/24 00:07]\n",
              "    </div>\n",
              "    "
            ]
          },
          "metadata": {}
        },
        {
          "output_type": "execute_result",
          "data": {
            "text/plain": [
              "{'eval_loss': 0.5129832029342651,\n",
              " 'eval_accuracy': 0.8327759197324415,\n",
              " 'eval_f1': 0.8279438395663233,\n",
              " 'eval_runtime': 7.6347,\n",
              " 'eval_samples_per_second': 195.817,\n",
              " 'eval_steps_per_second': 3.144,\n",
              " 'epoch': 3.0}"
            ]
          },
          "metadata": {},
          "execution_count": 53
        }
      ]
    },
    {
      "cell_type": "code",
      "source": [
        "predictions = trainer.predict(test_dataset)\n",
        "predicted_labels = predictions.predictions.argmax(axis=-1)\n",
        "\n",
        "print(classification_report(y_test, predicted_labels))"
      ],
      "metadata": {
        "colab": {
          "base_uri": "https://localhost:8080/",
          "height": 187
        },
        "id": "ENURkL2mE8gQ",
        "outputId": "7a942631-a892-4309-8eff-6c800bf75668"
      },
      "execution_count": 58,
      "outputs": [
        {
          "output_type": "display_data",
          "data": {
            "text/plain": [
              "<IPython.core.display.HTML object>"
            ],
            "text/html": []
          },
          "metadata": {}
        },
        {
          "output_type": "stream",
          "name": "stdout",
          "text": [
            "              precision    recall  f1-score   support\n",
            "\n",
            "           0       0.81      0.86      0.83       334\n",
            "           1       0.74      0.61      0.67       390\n",
            "           2       0.88      0.93      0.91       771\n",
            "\n",
            "    accuracy                           0.83      1495\n",
            "   macro avg       0.81      0.80      0.80      1495\n",
            "weighted avg       0.83      0.83      0.83      1495\n",
            "\n"
          ]
        }
      ]
    },
    {
      "cell_type": "code",
      "source": [
        "cm = confusion_matrix(y_test, predicted_labels)\n",
        "disp = ConfusionMatrixDisplay(confusion_matrix=cm)\n",
        "disp.plot()"
      ],
      "metadata": {
        "colab": {
          "base_uri": "https://localhost:8080/",
          "height": 466
        },
        "id": "MjpO5UzVGHb5",
        "outputId": "491620a1-04df-41e4-f303-02d47ed0d36a"
      },
      "execution_count": 55,
      "outputs": [
        {
          "output_type": "execute_result",
          "data": {
            "text/plain": [
              "<sklearn.metrics._plot.confusion_matrix.ConfusionMatrixDisplay at 0x7da9b18254d0>"
            ]
          },
          "metadata": {},
          "execution_count": 55
        },
        {
          "output_type": "display_data",
          "data": {
            "text/plain": [
              "<Figure size 640x480 with 2 Axes>"
            ],
            "image/png": "[encoded data removed]"
          },
          "metadata": {}
        }
      ]
    }
  ],
  "metadata": {
    "kernelspec": {
      "display_name": "Python 3",
      "name": "python3"
    },
    "language_info": {
      "name": "python",
      "version": "3.12.0"
    },
    "colab": {
      "provenance": [],
      "gpuType": "T4"
    },
    "accelerator": "GPU"
  },
  "nbformat": 4,
  "nbformat_minor": 0
}