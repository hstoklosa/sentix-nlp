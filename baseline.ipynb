{
  "cells": [
    {
      "cell_type": "markdown",
      "metadata": {
        "id": "PW67NbSabxf7"
      },
      "source": [
        "# Baseline for the CryptoBERT model"
      ]
    },
    {
      "cell_type": "code",
      "execution_count": 37,
      "metadata": {
        "colab": {
          "base_uri": "https://localhost:8080/"
        },
        "id": "Ojp27-mSb3_K",
        "outputId": "60b4ea0a-a20e-4d15-de28-89b30ca0b49e"
      },
      "outputs": [
        {
          "name": "stdout",
          "output_type": "stream",
          "text": [
            "Drive already mounted at /content/drive; to attempt to forcibly remount, call drive.mount(\"/content/drive\", force_remount=True).\n"
          ]
        }
      ],
      "source": [
        "from google.colab import drive\n",
        "drive.mount('/content/drive')"
      ]
    },
    {
      "cell_type": "code",
      "execution_count": 38,
      "metadata": {
        "id": "goxywN1Nbxf_"
      },
      "outputs": [],
      "source": [
        "import os\n",
        "import pandas as pd\n",
        "import numpy as np\n",
        "import torch\n",
        "from transformers import AutoModelForSequenceClassification, AutoTokenizer\n",
        "from sklearn.metrics import classification_report, confusion_matrix, accuracy_score\n",
        "import matplotlib.pyplot as plt\n",
        "import seaborn as sns\n",
        "\n",
        "ABSOLUTE_PATH = \"/content/drive/My Drive/Colab Notebooks\"\n",
        "MODEL_NAME=\"ElKulako/cryptobert\"\n",
        "NUM_LABELS=3"
      ]
    },
    {
      "cell_type": "markdown",
      "metadata": {
        "id": "8GuL5g6obxgB"
      },
      "source": [
        "## Load the preprocessed data"
      ]
    },
    {
      "cell_type": "code",
      "execution_count": 39,
      "metadata": {
        "colab": {
          "base_uri": "https://localhost:8080/"
        },
        "id": "LMSbbsBSbxgB",
        "outputId": "9185b410-0ac5-4c93-a23c-291a90ae780a"
      },
      "outputs": [
        {
          "name": "stdout",
          "output_type": "stream",
          "text": [
            "Train set: 11956 samples\n",
            "Validation set: 1495 samples\n",
            "Test set: 1495 samples\n",
            "\n",
            "Label distribution in training set:\n",
            "label\n",
            "2    6161\n",
            "1    3119\n",
            "0    2676\n",
            "Name: count, dtype: int64\n",
            "label\n",
            "2    0.515306\n",
            "1    0.260873\n",
            "0    0.223821\n",
            "Name: proportion, dtype: float64\n"
          ]
        }
      ],
      "source": [
        "test_set_path = os.path.join(ABSOLUTE_PATH, \"data/processed_coindesk_test.csv\")\n",
        "train_set_path = os.path.join(ABSOLUTE_PATH, \"data/processed_coindesk_train.csv\")\n",
        "val_set_path = os.path.join(ABSOLUTE_PATH, \"data/processed_coindesk_val.csv\")\n",
        "\n",
        "train_df = pd.read_csv(train_set_path)\n",
        "val_df = pd.read_csv(val_set_path)\n",
        "test_df = pd.read_csv(test_set_path)\n",
        "\n",
        "print(f\"Train set: {len(train_df)} samples\")\n",
        "print(f\"Validation set: {len(val_df)} samples\")\n",
        "print(f\"Test set: {len(test_df)} samples\")\n",
        "\n",
        "print(\"\\nLabel distribution in training set:\")\n",
        "print(train_df['label'].value_counts())\n",
        "print(train_df['label'].value_counts(normalize=True))"
      ]
    },
    {
      "cell_type": "markdown",
      "metadata": {
        "id": "qjsFxjglbxgC"
      },
      "source": [
        " ## Load the model and tokenizer"
      ]
    },
    {
      "cell_type": "markdown",
      "metadata": {
        "id": "oGGojXEb0J_L"
      },
      "source": [
        "To get the baseline results, I have used the base model without any fine-tuning, and only adapted the classification head for the sentiment task using 3 classes."
      ]
    },
    {
      "cell_type": "code",
      "execution_count": 40,
      "metadata": {
        "colab": {
          "base_uri": "https://localhost:8080/"
        },
        "id": "cLY9g_npbxgC",
        "outputId": "1524a4c7-237e-4c1d-f8d9-64ba510047fe"
      },
      "outputs": [
        {
          "data": {
            "text/plain": [
              "RobertaForSequenceClassification(\n",
              "  (roberta): RobertaModel(\n",
              "    (embeddings): RobertaEmbeddings(\n",
              "      (word_embeddings): Embedding(50265, 768, padding_idx=1)\n",
              "      (position_embeddings): Embedding(514, 768, padding_idx=1)\n",
              "      (token_type_embeddings): Embedding(1, 768)\n",
              "      (LayerNorm): LayerNorm((768,), eps=1e-05, elementwise_affine=True)\n",
              "      (dropout): Dropout(p=0.1, inplace=False)\n",
              "    )\n",
              "    (encoder): RobertaEncoder(\n",
              "      (layer): ModuleList(\n",
              "        (0-11): 12 x RobertaLayer(\n",
              "          (attention): RobertaAttention(\n",
              "            (self): RobertaSdpaSelfAttention(\n",
              "              (query): Linear(in_features=768, out_features=768, bias=True)\n",
              "              (key): Linear(in_features=768, out_features=768, bias=True)\n",
              "              (value): Linear(in_features=768, out_features=768, bias=True)\n",
              "              (dropout): Dropout(p=0.1, inplace=False)\n",
              "            )\n",
              "            (output): RobertaSelfOutput(\n",
              "              (dense): Linear(in_features=768, out_features=768, bias=True)\n",
              "              (LayerNorm): LayerNorm((768,), eps=1e-05, elementwise_affine=True)\n",
              "              (dropout): Dropout(p=0.1, inplace=False)\n",
              "            )\n",
              "          )\n",
              "          (intermediate): RobertaIntermediate(\n",
              "            (dense): Linear(in_features=768, out_features=3072, bias=True)\n",
              "            (intermediate_act_fn): GELUActivation()\n",
              "          )\n",
              "          (output): RobertaOutput(\n",
              "            (dense): Linear(in_features=3072, out_features=768, bias=True)\n",
              "            (LayerNorm): LayerNorm((768,), eps=1e-05, elementwise_affine=True)\n",
              "            (dropout): Dropout(p=0.1, inplace=False)\n",
              "          )\n",
              "        )\n",
              "      )\n",
              "    )\n",
              "  )\n",
              "  (classifier): RobertaClassificationHead(\n",
              "    (dense): Linear(in_features=768, out_features=768, bias=True)\n",
              "    (dropout): Dropout(p=0.1, inplace=False)\n",
              "    (out_proj): Linear(in_features=768, out_features=3, bias=True)\n",
              "  )\n",
              ")"
            ]
          },
          "execution_count": 40,
          "metadata": {},
          "output_type": "execute_result"
        }
      ],
      "source": [
        "device = torch.device(\"cuda\" if torch.cuda.is_available() else \"cpu\")\n",
        "tokenizer = AutoTokenizer.from_pretrained(MODEL_NAME)\n",
        "model = AutoModelForSequenceClassification.from_pretrained(\n",
        "    MODEL_NAME, num_labels=NUM_LABELS)\n",
        "model.to(device)"
      ]
    },
    {
      "cell_type": "markdown",
      "metadata": {
        "id": "UBqBxcvlbxgD"
      },
      "source": [
        "## Inference on base model"
      ]
    },
    {
      "cell_type": "code",
      "execution_count": 41,
      "metadata": {
        "id": "sU1e6BAXbxgD"
      },
      "outputs": [],
      "source": [
        "def predict_sentiment(texts, model, tokenizer, batch_size=16):\n",
        "    model.eval()\n",
        "    predictions = []\n",
        "\n",
        "    # Process data in batches\n",
        "    for i in range(0, len(texts), batch_size):\n",
        "        batch_texts = texts[i:i+batch_size].tolist()\n",
        "\n",
        "        # Tokenize\n",
        "        encodings = tokenizer(batch_texts, truncation=True, padding=True, max_length=128, return_tensors=\"pt\")\n",
        "        input_ids = encodings[\"input_ids\"].to(device)\n",
        "        attention_mask = encodings[\"attention_mask\"].to(device)\n",
        "\n",
        "        # Predict\n",
        "        with torch.no_grad():\n",
        "            outputs = model(input_ids=input_ids, attention_mask=attention_mask)\n",
        "            logits = outputs.logits\n",
        "            preds = torch.argmax(logits, dim=-1).cpu().numpy()\n",
        "            predictions.extend(preds)\n",
        "\n",
        "    return predictions\n",
        "\n",
        "# Run prediction on validation set\n",
        "val_preds = predict_sentiment(val_df['full_text'], model, tokenizer)"
      ]
    },
    {
      "cell_type": "markdown",
      "metadata": {},
      "source": [
        "## Evaluate the baseline model"
      ]
    },
    {
      "cell_type": "code",
      "execution_count": 42,
      "metadata": {
        "colab": {
          "base_uri": "https://localhost:8080/",
          "height": 785
        },
        "id": "VbNqRN4abxgE",
        "outputId": "a172d8f9-400f-4164-ffb7-e6662dbc6442"
      },
      "outputs": [
        {
          "name": "stdout",
          "output_type": "stream",
          "text": [
            "Validation Accuracy: 0.5237\n",
            "\n",
            "Classification Report:\n",
            "              precision    recall  f1-score   support\n",
            "\n",
            "    Negative       0.81      0.10      0.18       335\n",
            "     Neutral       0.32      0.64      0.43       390\n",
            "    Positive       0.74      0.65      0.69       770\n",
            "\n",
            "    accuracy                           0.52      1495\n",
            "   macro avg       0.62      0.46      0.43      1495\n",
            "weighted avg       0.65      0.52      0.51      1495\n",
            "\n"
          ]
        },
        {
          "data": {
            "image/png": "[encoded data removed]",
            "text/plain": [
              "<Figure size 800x600 with 2 Axes>"
            ]
          },
          "metadata": {},
          "output_type": "display_data"
        }
      ],
      "source": [
        "val_labels = val_df['label'].values\n",
        "val_accuracy = accuracy_score(val_labels, val_preds)\n",
        "print(f\"Validation Accuracy: {val_accuracy:.4f}\")\n",
        "\n",
        "# Show classification report\n",
        "print(\"\\nClassification Report:\")\n",
        "target_names = ['Negative', 'Neutral', 'Positive']\n",
        "print(classification_report(val_labels, val_preds, target_names=target_names))\n",
        "\n",
        "# Create confusion matrix\n",
        "cm = confusion_matrix(val_labels, val_preds)\n",
        "plt.figure(figsize=(8, 6))\n",
        "sns.heatmap(cm, annot=True, fmt='d', cmap='Blues', xticklabels=target_names, yticklabels=target_names)\n",
        "plt.xlabel('Predicted')\n",
        "plt.ylabel('True')\n",
        "plt.title('Confusion Matrix (Baseline Model)')\n",
        "plt.show()"
      ]
    },
    {
      "cell_type": "markdown",
      "metadata": {
        "id": "axVG4pO4bxgE"
      },
      "source": [
        "## Analyse performance on different examples"
      ]
    },
    {
      "cell_type": "code",
      "execution_count": 43,
      "metadata": {
        "colab": {
          "base_uri": "https://localhost:8080/"
        },
        "id": "geG9SW3HbxgF",
        "outputId": "5575ff9f-70b2-45d3-d71d-35c1e0a4193c"
      },
      "outputs": [
        {
          "name": "stdout",
          "output_type": "stream",
          "text": [
            "                                                                                                   text  \\\n",
            "0   bitcoin btc and gold report from jpmorgan! \"one took the lead, here's why!\". the rivalry between...   \n",
            "1   market turmoil: dow jones faces significant decline amid economic concerns. coinotag news, april...   \n",
            "2   april incidents reflect the multi-layered challenges binance continues to face. what do binance’...   \n",
            "3   meta, amazon hit hard by trump’s tariffs as tech stocks plunge. meta and amazon are among the la...   \n",
            "4   block inc. settles with new york regulators for 40m over cash app compliance violations. digital...   \n",
            "5   market analysis report 21 apr 2025. slovenia proposes 25% crypto tax on sales to fiat and purcha...   \n",
            "6   michelle bowman federal reserve hearing: a turning point for crypto regulation?. the post michel...   \n",
            "7   trade war: tit-for-tat tariffs show limits of unilateral action, web3 leaders say. web3 experts ...   \n",
            "8   bitcoin holds firm as chatter about fed independence gets louder. the digital asset’s price rema...   \n",
            "9   bitcoin btc price projection: lower support rejected, 8-hour relief rally eyed – key levels to w...   \n",
            "10  bitcoin’s growing potential as a safe-haven asset amid global trade tensions and institutional i...   \n",
            "11  blackrock’s bitcoin etf suggests stability amid economic challenges, raising questions about fut...   \n",
            "12  xrp will continue to outperform small cap tokens, researcher explains why. crypto researcher smq...   \n",
            "13  best crypto to buy now? fintech company intuit advised to add bitcoin to portfolio. among all ot...   \n",
            "14  michael saylor hints at another microstrategy bitcoin purchase, btc price to rally?. microstrate...   \n",
            "\n",
            "   true_label predicted_label  confidence  correct  \n",
            "0    Negative        Positive    0.721477    False  \n",
            "1    Negative        Negative    0.922664     True  \n",
            "2    Negative         Neutral    0.917575    False  \n",
            "3    Negative        Negative    0.515390     True  \n",
            "4    Negative         Neutral    0.761920    False  \n",
            "5     Neutral         Neutral    0.810512     True  \n",
            "6     Neutral         Neutral    0.667286     True  \n",
            "7     Neutral         Neutral    0.894169     True  \n",
            "8     Neutral        Positive    0.666549    False  \n",
            "9     Neutral         Neutral    0.685175     True  \n",
            "10   Positive        Positive    0.610906     True  \n",
            "11   Positive        Positive    0.839071     True  \n",
            "12   Positive        Positive    0.683767     True  \n",
            "13   Positive        Positive    0.789396     True  \n",
            "14   Positive         Neutral    0.630837    False  \n"
          ]
        }
      ],
      "source": [
        "# Select a few examples from each class to analyse\n",
        "sample_size, examples = 5, []\n",
        "\n",
        "for label in [0, 1, 2]:\n",
        "    class_df = val_df[val_df['label'] == label].sample(sample_size, random_state=42)\n",
        "    sample_texts = class_df['full_text'].tolist()\n",
        "    sample_labels = class_df['label'].tolist()\n",
        "\n",
        "    # Get predictions\n",
        "    sample_encodings = tokenizer(\n",
        "        sample_texts, \n",
        "        truncation=True, \n",
        "        padding=True, \n",
        "        max_length=128, \n",
        "        return_tensors=\"pt\"\n",
        "    )\n",
        "    input_ids = sample_encodings[\"input_ids\"].to(device)\n",
        "    attention_mask = sample_encodings[\"attention_mask\"].to(device)\n",
        "\n",
        "    with torch.no_grad():\n",
        "        outputs = model(input_ids=input_ids, attention_mask=attention_mask)\n",
        "        logits = outputs.logits\n",
        "        probs = torch.softmax(logits, dim=-1).cpu().numpy()\n",
        "        preds = np.argmax(probs, axis=-1)\n",
        "\n",
        "    for i in range(len(sample_texts)):\n",
        "        examples.append({\n",
        "            'text': sample_texts[i][:100] + \"...\",  # Truncate for display\n",
        "            'true_label': target_names[sample_labels[i]],\n",
        "            'predicted_label': target_names[preds[i]],\n",
        "            'confidence': probs[i][preds[i]],\n",
        "            'correct': sample_labels[i] == preds[i]\n",
        "        })\n",
        "\n",
        "\n",
        "examples_df = pd.DataFrame(examples)\n",
        "pd.set_option('display.max_colwidth', 100)\n",
        "print(examples_df)"
      ]
    }
  ],
  "metadata": {
    "accelerator": "GPU",
    "colab": {
      "gpuType": "T4",
      "machine_shape": "hm",
      "provenance": []
    },
    "kernelspec": {
      "display_name": ".venv",
      "language": "python",
      "name": "python3"
    },
    "language_info": {
      "name": "python",
      "version": "3.12.0"
    }
  },
  "nbformat": 4,
  "nbformat_minor": 0
}
