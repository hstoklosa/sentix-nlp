{
 "cells": [
  {
   "cell_type": "markdown",
   "metadata": {},
   "source": [
    " # Data Preprocessing for CryptoBERT"
   ]
  },
  {
   "cell_type": "code",
   "execution_count": 9,
   "metadata": {},
   "outputs": [],
   "source": [
    "import pandas as pd\n",
    "import numpy as np\n",
    "import re\n",
    "import html\n",
    "from transformers import AutoTokenizer\n",
    "import matplotlib.pyplot as plt\n",
    "from tqdm import tqdm\n",
    "from sklearn.model_selection import train_test_split"
   ]
  },
  {
   "cell_type": "markdown",
   "metadata": {},
   "source": [
    " ## Loading the dataset"
   ]
  },
  {
   "cell_type": "code",
   "execution_count": 10,
   "metadata": {},
   "outputs": [
    {
     "data": {
      "text/plain": [
       "(15000, 18)"
      ]
     },
     "execution_count": 10,
     "metadata": {},
     "output_type": "execute_result"
    }
   ],
   "source": [
    "df = pd.read_csv(\"./data/coindesk_news.csv\")\n",
    "df.shape"
   ]
  },
  {
   "cell_type": "code",
   "execution_count": 11,
   "metadata": {},
   "outputs": [
    {
     "data": {
      "text/plain": [
       "['id',\n",
       " 'guid',\n",
       " 'title',\n",
       " 'subtitle',\n",
       " 'content',\n",
       " 'published_date',\n",
       " 'published_timestamp',\n",
       " 'url',\n",
       " 'image_url',\n",
       " 'authors',\n",
       " 'source_id',\n",
       " 'keywords',\n",
       " 'language',\n",
       " 'upvotes',\n",
       " 'downvotes',\n",
       " 'score',\n",
       " 'sentiment',\n",
       " 'status']"
      ]
     },
     "execution_count": 11,
     "metadata": {},
     "output_type": "execute_result"
    }
   ],
   "source": [
    "df.columns.tolist()"
   ]
  },
  {
   "cell_type": "code",
   "execution_count": 12,
   "metadata": {},
   "outputs": [
    {
     "data": {
      "text/html": [
       "<div>\n",
       "<style scoped>\n",
       "    .dataframe tbody tr th:only-of-type {\n",
       "        vertical-align: middle;\n",
       "    }\n",
       "\n",
       "    .dataframe tbody tr th {\n",
       "        vertical-align: top;\n",
       "    }\n",
       "\n",
       "    .dataframe thead th {\n",
       "        text-align: right;\n",
       "    }\n",
       "</style>\n",
       "<table border=\"1\" class=\"dataframe\">\n",
       "  <thead>\n",
       "    <tr style=\"text-align: right;\">\n",
       "      <th></th>\n",
       "      <th>id</th>\n",
       "      <th>guid</th>\n",
       "      <th>title</th>\n",
       "      <th>subtitle</th>\n",
       "      <th>content</th>\n",
       "      <th>published_date</th>\n",
       "      <th>published_timestamp</th>\n",
       "      <th>url</th>\n",
       "      <th>image_url</th>\n",
       "      <th>authors</th>\n",
       "      <th>source_id</th>\n",
       "      <th>keywords</th>\n",
       "      <th>language</th>\n",
       "      <th>upvotes</th>\n",
       "      <th>downvotes</th>\n",
       "      <th>score</th>\n",
       "      <th>sentiment</th>\n",
       "      <th>status</th>\n",
       "    </tr>\n",
       "  </thead>\n",
       "  <tbody>\n",
       "    <tr>\n",
       "      <th>0</th>\n",
       "      <td>43634416</td>\n",
       "      <td>https://thedefiant.io/news/tradfi-and-fintech/...</td>\n",
       "      <td>Circle to Launch Global Payments and Cross-Bor...</td>\n",
       "      <td>NaN</td>\n",
       "      <td>Circle, the issuer of USDC, the second-largest...</td>\n",
       "      <td>2025-04-21 20:35:08</td>\n",
       "      <td>1745264108</td>\n",
       "      <td>https://thedefiant.io/news/tradfi-and-fintech/...</td>\n",
       "      <td>https://resources.cryptocompare.com/news/101/4...</td>\n",
       "      <td>DeepNewz</td>\n",
       "      <td>101</td>\n",
       "      <td>NaN</td>\n",
       "      <td>EN</td>\n",
       "      <td>0</td>\n",
       "      <td>0</td>\n",
       "      <td>0</td>\n",
       "      <td>POSITIVE</td>\n",
       "      <td>ACTIVE</td>\n",
       "    </tr>\n",
       "    <tr>\n",
       "      <th>1</th>\n",
       "      <td>43634328</td>\n",
       "      <td>https://crypto.news/?p=14371397</td>\n",
       "      <td>Coinbase secures more SEC documents on Ethereu...</td>\n",
       "      <td>NaN</td>\n",
       "      <td>Coinbase has obtained internal documents from ...</td>\n",
       "      <td>2025-04-21 20:33:50</td>\n",
       "      <td>1745264030</td>\n",
       "      <td>https://crypto.news/coinbase-secures-more-sec-...</td>\n",
       "      <td>https://resources.cryptocompare.com/news/73/43...</td>\n",
       "      <td>Micah Zimmerman</td>\n",
       "      <td>73</td>\n",
       "      <td>News|Coinbase|Lawsuit|SEC</td>\n",
       "      <td>EN</td>\n",
       "      <td>0</td>\n",
       "      <td>0</td>\n",
       "      <td>0</td>\n",
       "      <td>NEUTRAL</td>\n",
       "      <td>ACTIVE</td>\n",
       "    </tr>\n",
       "    <tr>\n",
       "      <th>2</th>\n",
       "      <td>43634351</td>\n",
       "      <td>https://en.coinotag.com/onyxcoin-faces-uncerta...</td>\n",
       "      <td>Onyxcoin Faces Uncertainty with Signs of Poten...</td>\n",
       "      <td>NaN</td>\n",
       "      <td>Onyxcoin (XCN) has experienced a significant p...</td>\n",
       "      <td>2025-04-21 20:33:41</td>\n",
       "      <td>1745264021</td>\n",
       "      <td>https://en.coinotag.com/onyxcoin-faces-uncerta...</td>\n",
       "      <td>https://resources.cryptocompare.com/news/77/43...</td>\n",
       "      <td>Marisol Navaro</td>\n",
       "      <td>77</td>\n",
       "      <td>Analysis|News</td>\n",
       "      <td>EN</td>\n",
       "      <td>0</td>\n",
       "      <td>0</td>\n",
       "      <td>0</td>\n",
       "      <td>NEUTRAL</td>\n",
       "      <td>ACTIVE</td>\n",
       "    </tr>\n",
       "    <tr>\n",
       "      <th>3</th>\n",
       "      <td>43634547</td>\n",
       "      <td>https://thecoinrise.com/circle-floats-new-paym...</td>\n",
       "      <td>Circle Floats New Payments Network For Cross-B...</td>\n",
       "      <td>NaN</td>\n",
       "      <td>On Tuesday, Circle, the company behind the wel...</td>\n",
       "      <td>2025-04-21 20:31:37</td>\n",
       "      <td>1745263897</td>\n",
       "      <td>https://thecoinrise.com/circle-floats-new-paym...</td>\n",
       "      <td>https://resources.cryptocompare.com/news/60/43...</td>\n",
       "      <td>Godfrey Benjamin</td>\n",
       "      <td>60</td>\n",
       "      <td>Blockchain News|Circle|Stablecoin</td>\n",
       "      <td>EN</td>\n",
       "      <td>0</td>\n",
       "      <td>0</td>\n",
       "      <td>0</td>\n",
       "      <td>POSITIVE</td>\n",
       "      <td>ACTIVE</td>\n",
       "    </tr>\n",
       "    <tr>\n",
       "      <th>4</th>\n",
       "      <td>43634269</td>\n",
       "      <td>https://en.coin-turk.com/?p=189832</td>\n",
       "      <td>Maximize Your Crypto Gains with Kernel DAO’s I...</td>\n",
       "      <td>NaN</td>\n",
       "      <td>Kernel DAO offers enhanced security and yields...</td>\n",
       "      <td>2025-04-21 20:31:36</td>\n",
       "      <td>1745263896</td>\n",
       "      <td>https://en.coin-turk.com/maximize-your-crypto-...</td>\n",
       "      <td>https://resources.cryptocompare.com/news/79/43...</td>\n",
       "      <td>Fatih Uçar</td>\n",
       "      <td>79</td>\n",
       "      <td>Altcoin News</td>\n",
       "      <td>EN</td>\n",
       "      <td>0</td>\n",
       "      <td>0</td>\n",
       "      <td>0</td>\n",
       "      <td>POSITIVE</td>\n",
       "      <td>ACTIVE</td>\n",
       "    </tr>\n",
       "  </tbody>\n",
       "</table>\n",
       "</div>"
      ],
      "text/plain": [
       "         id                                               guid  \\\n",
       "0  43634416  https://thedefiant.io/news/tradfi-and-fintech/...   \n",
       "1  43634328                    https://crypto.news/?p=14371397   \n",
       "2  43634351  https://en.coinotag.com/onyxcoin-faces-uncerta...   \n",
       "3  43634547  https://thecoinrise.com/circle-floats-new-paym...   \n",
       "4  43634269                 https://en.coin-turk.com/?p=189832   \n",
       "\n",
       "                                               title subtitle  \\\n",
       "0  Circle to Launch Global Payments and Cross-Bor...      NaN   \n",
       "1  Coinbase secures more SEC documents on Ethereu...      NaN   \n",
       "2  Onyxcoin Faces Uncertainty with Signs of Poten...      NaN   \n",
       "3  Circle Floats New Payments Network For Cross-B...      NaN   \n",
       "4  Maximize Your Crypto Gains with Kernel DAO’s I...      NaN   \n",
       "\n",
       "                                             content       published_date  \\\n",
       "0  Circle, the issuer of USDC, the second-largest...  2025-04-21 20:35:08   \n",
       "1  Coinbase has obtained internal documents from ...  2025-04-21 20:33:50   \n",
       "2  Onyxcoin (XCN) has experienced a significant p...  2025-04-21 20:33:41   \n",
       "3  On Tuesday, Circle, the company behind the wel...  2025-04-21 20:31:37   \n",
       "4  Kernel DAO offers enhanced security and yields...  2025-04-21 20:31:36   \n",
       "\n",
       "   published_timestamp                                                url  \\\n",
       "0           1745264108  https://thedefiant.io/news/tradfi-and-fintech/...   \n",
       "1           1745264030  https://crypto.news/coinbase-secures-more-sec-...   \n",
       "2           1745264021  https://en.coinotag.com/onyxcoin-faces-uncerta...   \n",
       "3           1745263897  https://thecoinrise.com/circle-floats-new-paym...   \n",
       "4           1745263896  https://en.coin-turk.com/maximize-your-crypto-...   \n",
       "\n",
       "                                           image_url           authors  \\\n",
       "0  https://resources.cryptocompare.com/news/101/4...          DeepNewz   \n",
       "1  https://resources.cryptocompare.com/news/73/43...   Micah Zimmerman   \n",
       "2  https://resources.cryptocompare.com/news/77/43...    Marisol Navaro   \n",
       "3  https://resources.cryptocompare.com/news/60/43...  Godfrey Benjamin   \n",
       "4  https://resources.cryptocompare.com/news/79/43...        Fatih Uçar   \n",
       "\n",
       "   source_id                           keywords language  upvotes  downvotes  \\\n",
       "0        101                                NaN       EN        0          0   \n",
       "1         73          News|Coinbase|Lawsuit|SEC       EN        0          0   \n",
       "2         77                      Analysis|News       EN        0          0   \n",
       "3         60  Blockchain News|Circle|Stablecoin       EN        0          0   \n",
       "4         79                       Altcoin News       EN        0          0   \n",
       "\n",
       "   score sentiment  status  \n",
       "0      0  POSITIVE  ACTIVE  \n",
       "1      0   NEUTRAL  ACTIVE  \n",
       "2      0   NEUTRAL  ACTIVE  \n",
       "3      0  POSITIVE  ACTIVE  \n",
       "4      0  POSITIVE  ACTIVE  "
      ]
     },
     "execution_count": 12,
     "metadata": {},
     "output_type": "execute_result"
    }
   ],
   "source": [
    "df.head()"
   ]
  },
  {
   "cell_type": "code",
   "execution_count": 13,
   "metadata": {},
   "outputs": [
    {
     "data": {
      "text/plain": [
       "id                         0\n",
       "guid                       0\n",
       "title                      0\n",
       "subtitle               14637\n",
       "content                   52\n",
       "published_date             0\n",
       "published_timestamp        0\n",
       "url                        0\n",
       "image_url                  0\n",
       "authors                  360\n",
       "source_id                  0\n",
       "keywords                1351\n",
       "language                   0\n",
       "upvotes                    0\n",
       "downvotes                  0\n",
       "score                      0\n",
       "sentiment                  0\n",
       "status                     0\n",
       "dtype: int64"
      ]
     },
     "execution_count": 13,
     "metadata": {},
     "output_type": "execute_result"
    }
   ],
   "source": [
    "df.isnull().sum()"
   ]
  },
  {
   "cell_type": "markdown",
   "metadata": {},
   "source": [
    " ## Data cleaning"
   ]
  },
  {
   "cell_type": "code",
   "execution_count": 14,
   "metadata": {},
   "outputs": [
    {
     "name": "stdout",
     "output_type": "stream",
     "text": [
      "Removed 54 duplicate articles.\n"
     ]
    }
   ],
   "source": [
    "def clean_text(text):\n",
    "    if pd.isna(text):\n",
    "        return \"\"\n",
    "    \n",
    "    # Remove HTML tags\n",
    "    text = html.unescape(text)\n",
    "    text = re.sub(r'<.*?>', ' ', text)\n",
    "    \n",
    "    # Remove URLs\n",
    "    text = re.sub(r'http[s]?://(?:[a-zA-Z]|[0-9]|[$-_@.&+]|[!*\\\\(\\\\),]|(?:%[0-9a-fA-F][0-9a-fA-F]))+', ' ', text)\n",
    "    \n",
    "    # Normalise whitespace\n",
    "    text = re.sub(r'\\s+', ' ', text)\n",
    "    text = text.strip()\n",
    "    \n",
    "    # Convert to lowercase\n",
    "    text = text.lower()\n",
    "    \n",
    "    # Handle special characters - standardise cryptocurrency tickers\n",
    "    # For example: $BTC -> BTC, (ETH) -> ETH\n",
    "    text = re.sub(r'[$\\(\\)]', '', text)\n",
    "    \n",
    "    return text\n",
    "\n",
    "# Apply cleaning to the content column\n",
    "df['cleaned_content'] = df['content'].apply(clean_text)\n",
    "df['cleaned_title'] = df['title'].apply(clean_text)\n",
    "\n",
    "# Combine title and content for a complete text field\n",
    "df['full_text'] = df['cleaned_title'] + \". \" + df['cleaned_content']\n",
    "\n",
    "# Drop duplicates\n",
    "original_length = len(df)\n",
    "df.drop_duplicates(subset=['full_text'], inplace=True)\n",
    "print(f\"Removed {original_length - len(df)} duplicate articles.\")"
   ]
  },
  {
   "cell_type": "markdown",
   "metadata": {},
   "source": [
    " ## Tokenization and Encoding"
   ]
  },
  {
   "cell_type": "code",
   "execution_count": 15,
   "metadata": {},
   "outputs": [
    {
     "name": "stderr",
     "output_type": "stream",
     "text": [
      "100%|██████████| 1000/1000 [00:02<00:00, 358.93it/s]\n"
     ]
    },
    {
     "data": {
      "image/png": "[encoded data removed]",
      "text/plain": [
       "<Figure size 1000x600 with 1 Axes>"
      ]
     },
     "metadata": {},
     "output_type": "display_data"
    },
    {
     "name": "stdout",
     "output_type": "stream",
     "text": [
      "Median token length: 578.0\n",
      "Mean token length: 648.444\n",
      "Max token length: 4988\n",
      "Percentage of samples longer than 128 tokens: 71.10%\n"
     ]
    }
   ],
   "source": [
    "tokenizer = AutoTokenizer.from_pretrained(\"ElKulako/cryptobert\")\n",
    "\n",
    "# Check the length of tokenized sequences\n",
    "token_lengths = []\n",
    "for text in tqdm(df['full_text'].sample(min(1000, len(df))).tolist()):\n",
    "    tokens = tokenizer.encode(text)\n",
    "    token_lengths.append(len(tokens))\n",
    "\n",
    "# Plot histogram of token lengths\n",
    "plt.figure(figsize=(10, 6))\n",
    "plt.hist(token_lengths, bins=50)\n",
    "plt.xlabel('Token Length')\n",
    "plt.ylabel('Frequency')\n",
    "plt.title('Distribution of Token Lengths')\n",
    "plt.axvline(x=128, color='r', linestyle='--', label='Max Length (128)')\n",
    "plt.axvline(x=np.median(token_lengths), color='g', linestyle='--', label=f'Median Length ({np.median(token_lengths):.0f})')\n",
    "plt.legend()\n",
    "plt.show()\n",
    "\n",
    "print(f\"Median token length: {np.median(token_lengths)}\")\n",
    "print(f\"Mean token length: {np.mean(token_lengths)}\")\n",
    "print(f\"Max token length: {np.max(token_lengths)}\")\n",
    "print(f\"Percentage of samples longer than 128 tokens: {sum(length > 128 for length in token_lengths) / len(token_lengths) * 100:.2f}%\")\n"
   ]
  },
  {
   "cell_type": "markdown",
   "metadata": {},
   "source": [
    " Based on the token length analysis, we are now able to define the maximum sequence length for tokenization. The maintainer of the ElKulako/cryptobert model recommends using a max_length of 128 tokens."
   ]
  },
  {
   "cell_type": "code",
   "execution_count": 16,
   "metadata": {},
   "outputs": [],
   "source": [
    "MAX_LENGTH = 128\n",
    "\n",
    "def tokenize_function(text):\n",
    "    return tokenizer(\n",
    "        text,\n",
    "        padding=\"max_length\",\n",
    "        truncation=True,\n",
    "        max_length=MAX_LENGTH,\n",
    "        return_tensors=None\n",
    "    )"
   ]
  },
  {
   "cell_type": "markdown",
   "metadata": {},
   "source": [
    " ## Prepare Dataset for Fine-tuning"
   ]
  },
  {
   "cell_type": "code",
   "execution_count": 17,
   "metadata": {},
   "outputs": [
    {
     "name": "stdout",
     "output_type": "stream",
     "text": [
      "Sentiment values in the dataset:\n",
      "sentiment\n",
      "POSITIVE    7702\n",
      "NEUTRAL     3899\n",
      "NEGATIVE    3345\n",
      "Name: count, dtype: int64\n",
      "\n",
      "Label distribution:\n",
      "label\n",
      "2    7702\n",
      "1    3899\n",
      "0    3345\n",
      "Name: count, dtype: int64\n",
      "label\n",
      "2    0.515322\n",
      "1    0.260872\n",
      "0    0.223806\n",
      "Name: proportion, dtype: float64\n"
     ]
    },
    {
     "data": {
      "image/png": "[encoded data removed]",
      "text/plain": [
       "<Figure size 800x600 with 1 Axes>"
      ]
     },
     "metadata": {},
     "output_type": "display_data"
    }
   ],
   "source": [
    "# Check available sentiment values\n",
    "print(\"Sentiment values in the dataset:\")\n",
    "print(df['sentiment'].value_counts())\n",
    "\n",
    "# Map sentiment to numerical labels\n",
    "sentiment_map = {\n",
    "    'NEGATIVE': 0,\n",
    "    'NEUTRAL': 1,\n",
    "    'POSITIVE': 2\n",
    "}\n",
    "\n",
    "# Create labels column\n",
    "df['label'] = df['sentiment'].map(sentiment_map)\n",
    "\n",
    "# Check label distribution\n",
    "print(\"\\nLabel distribution:\")\n",
    "print(df['label'].value_counts())\n",
    "print(df['label'].value_counts(normalize=True))\n",
    "\n",
    "# Plot the label distribution\n",
    "plt.figure(figsize=(8, 6))\n",
    "df['label'].value_counts().plot(kind='bar')\n",
    "plt.xlabel('Label')\n",
    "plt.ylabel('Count')\n",
    "plt.title('Label Distribution')\n",
    "plt.xticks(ticks=[0, 1, 2], labels=['Negative', 'Neutral', 'Positive'])\n",
    "plt.show()\n"
   ]
  },
  {
   "cell_type": "markdown",
   "metadata": {},
   "source": [
    " ## Splitting the dataset"
   ]
  },
  {
   "cell_type": "code",
   "execution_count": 18,
   "metadata": {},
   "outputs": [
    {
     "name": "stdout",
     "output_type": "stream",
     "text": [
      "Dataset splits:\n",
      "Train: 11956 samples\n",
      "Validation: 1495 samples\n",
      "Test: 1495 samples\n"
     ]
    }
   ],
   "source": [
    "# Create new dataframe with just the columns we need\n",
    "data_df = df[['full_text', 'label']].copy()\n",
    "\n",
    "train_df, temp_df = train_test_split(\n",
    "    data_df, \n",
    "    test_size=0.2, \n",
    "    random_state=42, \n",
    "    stratify=data_df['label']\n",
    ")\n",
    "val_df, test_df = train_test_split(\n",
    "    temp_df, \n",
    "    test_size=0.5, \n",
    "    random_state=42, \n",
    "    stratify=temp_df['label']\n",
    ")\n",
    "\n",
    "print(\"Dataset splits:\")\n",
    "print(f\"Train: {len(train_df)} samples\")\n",
    "print(f\"Validation: {len(val_df)} samples\")\n",
    "print(f\"Test: {len(test_df)} samples\")"
   ]
  },
  {
   "cell_type": "markdown",
   "metadata": {},
   "source": [
    " ## Exporting processed datasets"
   ]
  },
  {
   "cell_type": "code",
   "execution_count": 19,
   "metadata": {},
   "outputs": [
    {
     "name": "stdout",
     "output_type": "stream",
     "text": [
      "Datasets saved to ./data/processed_coindesk_*.csv\n"
     ]
    }
   ],
   "source": [
    "train_df.to_csv(\"./data/processed_coindesk_train.csv\", index=False)\n",
    "val_df.to_csv(\"./data/processed_coindesk_val.csv\", index=False)\n",
    "test_df.to_csv(\"./data/processed_coindesk_test.csv\", index=False)\n",
    "\n",
    "print(\"Datasets saved to ./data/processed_coindesk_*.csv\")"
   ]
  }
 ],
 "metadata": {
  "kernelspec": {
   "display_name": ".venv",
   "language": "python",
   "name": "python3"
  },
  "language_info": {
   "codemirror_mode": {
    "name": "ipython",
    "version": 3
   },
   "file_extension": ".py",
   "mimetype": "text/x-python",
   "name": "python",
   "nbconvert_exporter": "python",
   "pygments_lexer": "ipython3",
   "version": "3.12.0"
  }
 },
 "nbformat": 4,
 "nbformat_minor": 2
}
