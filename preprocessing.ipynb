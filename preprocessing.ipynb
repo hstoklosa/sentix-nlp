{
 "cells": [
  {
   "cell_type": "markdown",
   "metadata": {},
   "source": [
    "# Data Preprocessing"
   ]
  },
  {
   "cell_type": "markdown",
   "metadata": {},
   "source": [
    "Intro to BERT and fine-tuning for sentiment analysis:\n",
    "- https://machinelearningmastery.com/a-brief-introduction-to-bert/\n",
    "- https://machinelearningmastery.com/a-complete-introduction-to-using-bert-models/\n",
    "- https://skimai.com/fine-tuning-bert-for-sentiment-analysis/\n",
    "- https://mccormickml.com/2019/07/22/BERT-fine-tuning/"
   ]
  },
  {
   "cell_type": "markdown",
   "metadata": {},
   "source": [
    "## Load the libraries and data"
   ]
  },
  {
   "cell_type": "code",
   "execution_count": 38,
   "metadata": {},
   "outputs": [
    {
     "data": {
      "text/plain": [
       "(31037, 7)"
      ]
     },
     "execution_count": 38,
     "metadata": {},
     "output_type": "execute_result"
    }
   ],
   "source": [
    "import pandas as pd\n",
    "import numpy as np\n",
    "import matplotlib.pyplot as plt\n",
    "\n",
    "import ast\n",
    "import re\n",
    "import torch\n",
    "\n",
    "from transformers import BertTokenizer\n",
    "from datasets import Dataset\n",
    "from sklearn.preprocessing import LabelEncoder\n",
    "\n",
    "df = pd.read_csv(\"data/cryptonews.csv\")\n",
    "df.shape"
   ]
  },
  {
   "cell_type": "code",
   "execution_count": 28,
   "metadata": {},
   "outputs": [
    {
     "data": {
      "application/vnd.microsoft.datawrangler.viewer.v0+json": {
       "columns": [
        {
         "name": "index",
         "rawType": "int64",
         "type": "integer"
        },
        {
         "name": "date",
         "rawType": "object",
         "type": "string"
        },
        {
         "name": "sentiment",
         "rawType": "object",
         "type": "string"
        },
        {
         "name": "source",
         "rawType": "object",
         "type": "string"
        },
        {
         "name": "subject",
         "rawType": "object",
         "type": "string"
        },
        {
         "name": "text",
         "rawType": "object",
         "type": "string"
        },
        {
         "name": "title",
         "rawType": "object",
         "type": "string"
        },
        {
         "name": "url",
         "rawType": "object",
         "type": "string"
        }
       ],
       "conversionMethod": "pd.DataFrame",
       "ref": "5be9e394-738d-49fd-8d68-14ded318afe9",
       "rows": [
        [
         "9021",
         "2023-06-22 13:37:00",
         "{'class': 'neutral', 'polarity': 0.0, 'subjectivity': 0.0}",
         "CryptoPotato",
         "bitcoin",
         "ChatGPT thinks there are seven factors that could help Bitcoin's price reach $40K.",
         "After $30K: 7 Things for Bitcoin’s Price to Reach $40K According to ChatGPT",
         "https://cryptopotato.com/after-30k-7-things-for-bitcoins-price-to-reach-40k-according-to-chatgpt/"
        ],
        [
         "16242",
         "2023-01-07 10:52:57",
         "{'class': 'positive', 'polarity': 0.12, 'subjectivity': 0.33}",
         "CoinTelegraph",
         "bitcoin",
         "Bets are increasing on a push higher for Bitcoin and on BTC price action defining the current range as its macro bottom.",
         "Bitcoin price nears 3-week high as trader says sub-7% CPI may see $19K",
         "https://cointelegraph.com/news/bitcoin-price-nears-3-week-high-as-trader-says-sub-7-cpi-may-see-19k"
        ],
        [
         "12452",
         "2023-04-05 20:38:00",
         "{'class': 'positive', 'polarity': 0.29, 'subjectivity': 0.43}",
         "CryptoNews",
         "altcoin",
         "The cryptocurrency market remains strong and unaffected, with a steady upswing in total market capitalization despite fluctuations in the stock market and economic concerns. What are the best cryptos to buy now?",
         "Best Crypto to Buy Now 5 April \\x93 RPL, LDO, OP",
         "https://cryptonews.com/news/best-crypto-buy-now-5-april-rpl-ldo-op.htm"
        ],
        [
         "29243",
         "2022-02-17 15:19:00",
         "{'class': 'negative', 'polarity': -0.12, 'subjectivity': 0.37}",
         "CryptoNews",
         "bitcoin",
         "'The Central Bank wants to ban crypto <...> This is the same as banning the internet: It's impossible.'",
         "Late Drama Threatens to Disrupt Russian Crypto Regulation Plans",
         "https://cryptonews.com/news/late-drama-threatens-disrupt-russian-crypto-regulation-plans.htm"
        ],
        [
         "26599",
         "2022-04-22 13:01:11",
         "{'class': 'positive', 'polarity': 0.02, 'subjectivity': 0.23}",
         "CoinTelegraph",
         "blockchain",
         "The industry may have 10 years or less to devise defenses against quantum computers capable of breaching its elliptic curve cryptography.",
         "Quantum computing to run economic models on crypto adoption",
         "https://cointelegraph.com/news/quantum-computing-to-run-economic-models-on-crypto-adoption"
        ],
        [
         "25176",
         "2022-05-26 10:26:00",
         "{'class': 'negative', 'polarity': -0.19, 'subjectivity': 0.5}",
         "CoinTelegraph",
         "blockchain",
         "Michael Miebach, CEO of Mastercard told an audience of blockchain executives that he expects SWIFT to phase out of existence in as little as five years' time.",
         "SWIFT probably won't exist in 5 years: Mastercard CEO",
         "https://cointelegraph.com/news/swift-probably-won-t-exist-in-5-years-mastercard-ceo"
        ],
        [
         "9838",
         "2023-06-05 12:45:00",
         "{'class': 'neutral', 'polarity': 0.0, 'subjectivity': 0.0}",
         "CryptoPotato",
         "altcoin",
         "Atomic Wallet has not yet released the specifics of the attack. ",
         "Over $35 Million Reportely Stolen From Atomic Wallet Users",
         "https://cryptopotato.com/over-35-million-reportely-stolen-from-atomic-wallet-users/"
        ],
        [
         "22207",
         "2022-08-08 10:40:32",
         "{'class': 'positive', 'polarity': 0.6, 'subjectivity': 0.9}",
         "CoinTelegraph",
         "bitcoin",
         "The Google trends data for the popular search terms in 15 countries showed that “Ethereum” searches outscored 'Bitcoin' in 14 of them.",
         "Nigeria becomes the most crypto-obsessed nation after April crash: Report",
         "https://cointelegraph.com/news/nigeria-becomes-the-most-crypto-obsessed-nation-after-april-crash-report"
        ],
        [
         "26305",
         "2022-04-29 15:10:00",
         "{'class': 'neutral', 'polarity': 0.0, 'subjectivity': 0.25}",
         "CryptoPotato",
         "bitcoin",
         "The central bank of Switzerland may be mulling over CBDC but it has no plans to hold Bitcoin as a reserve currency.\\xa0",
         "Swiss National Bank Chairman: Bitcoin Does Not Meet Currency Reserves Requirements",
         "https://cryptopotato.com/swiss-national-bank-chairman-bitcoin-does-not-meet-currency-reserves-requirements/"
        ],
        [
         "19095",
         "2022-10-26 16:56:00",
         "{'class': 'neutral', 'polarity': 0.0, 'subjectivity': 0.12}",
         "CryptoNews",
         "altcoin",
         "Meta recently revealed its partnership with French business school HEC Paris and L'OrÃ©al. The collaboration is geared toward launching an accelerator program for startups to facilitate creativity in the Metaverse.",
         "Meta Partners with Fashion Company L'OrÃ©al to Launch Web3 Accelerator Program",
         "https://cryptonews.com/news/meta-partners-with-fashion-company-loreal-launch-web3-accelerator-program.htm"
        ]
       ],
       "shape": {
        "columns": 7,
        "rows": 10
       }
      },
      "text/html": [
       "<div>\n",
       "<style scoped>\n",
       "    .dataframe tbody tr th:only-of-type {\n",
       "        vertical-align: middle;\n",
       "    }\n",
       "\n",
       "    .dataframe tbody tr th {\n",
       "        vertical-align: top;\n",
       "    }\n",
       "\n",
       "    .dataframe thead th {\n",
       "        text-align: right;\n",
       "    }\n",
       "</style>\n",
       "<table border=\"1\" class=\"dataframe\">\n",
       "  <thead>\n",
       "    <tr style=\"text-align: right;\">\n",
       "      <th></th>\n",
       "      <th>date</th>\n",
       "      <th>sentiment</th>\n",
       "      <th>source</th>\n",
       "      <th>subject</th>\n",
       "      <th>text</th>\n",
       "      <th>title</th>\n",
       "      <th>url</th>\n",
       "    </tr>\n",
       "  </thead>\n",
       "  <tbody>\n",
       "    <tr>\n",
       "      <th>9021</th>\n",
       "      <td>2023-06-22 13:37:00</td>\n",
       "      <td>{'class': 'neutral', 'polarity': 0.0, 'subject...</td>\n",
       "      <td>CryptoPotato</td>\n",
       "      <td>bitcoin</td>\n",
       "      <td>ChatGPT thinks there are seven factors that co...</td>\n",
       "      <td>After $30K: 7 Things for Bitcoin’s Price to Re...</td>\n",
       "      <td>https://cryptopotato.com/after-30k-7-things-fo...</td>\n",
       "    </tr>\n",
       "    <tr>\n",
       "      <th>16242</th>\n",
       "      <td>2023-01-07 10:52:57</td>\n",
       "      <td>{'class': 'positive', 'polarity': 0.12, 'subje...</td>\n",
       "      <td>CoinTelegraph</td>\n",
       "      <td>bitcoin</td>\n",
       "      <td>Bets are increasing on a push higher for Bitco...</td>\n",
       "      <td>Bitcoin price nears 3-week high as trader says...</td>\n",
       "      <td>https://cointelegraph.com/news/bitcoin-price-n...</td>\n",
       "    </tr>\n",
       "    <tr>\n",
       "      <th>12452</th>\n",
       "      <td>2023-04-05 20:38:00</td>\n",
       "      <td>{'class': 'positive', 'polarity': 0.29, 'subje...</td>\n",
       "      <td>CryptoNews</td>\n",
       "      <td>altcoin</td>\n",
       "      <td>The cryptocurrency market remains strong and u...</td>\n",
       "      <td>Best Crypto to Buy Now 5 April \\x93 RPL, LDO, OP</td>\n",
       "      <td>https://cryptonews.com/news/best-crypto-buy-no...</td>\n",
       "    </tr>\n",
       "    <tr>\n",
       "      <th>29243</th>\n",
       "      <td>2022-02-17 15:19:00</td>\n",
       "      <td>{'class': 'negative', 'polarity': -0.12, 'subj...</td>\n",
       "      <td>CryptoNews</td>\n",
       "      <td>bitcoin</td>\n",
       "      <td>'The Central Bank wants to ban crypto &lt;...&gt; Th...</td>\n",
       "      <td>Late Drama Threatens to Disrupt Russian Crypto...</td>\n",
       "      <td>https://cryptonews.com/news/late-drama-threate...</td>\n",
       "    </tr>\n",
       "    <tr>\n",
       "      <th>26599</th>\n",
       "      <td>2022-04-22 13:01:11</td>\n",
       "      <td>{'class': 'positive', 'polarity': 0.02, 'subje...</td>\n",
       "      <td>CoinTelegraph</td>\n",
       "      <td>blockchain</td>\n",
       "      <td>The industry may have 10 years or less to devi...</td>\n",
       "      <td>Quantum computing to run economic models on cr...</td>\n",
       "      <td>https://cointelegraph.com/news/quantum-computi...</td>\n",
       "    </tr>\n",
       "    <tr>\n",
       "      <th>25176</th>\n",
       "      <td>2022-05-26 10:26:00</td>\n",
       "      <td>{'class': 'negative', 'polarity': -0.19, 'subj...</td>\n",
       "      <td>CoinTelegraph</td>\n",
       "      <td>blockchain</td>\n",
       "      <td>Michael Miebach, CEO of Mastercard told an aud...</td>\n",
       "      <td>SWIFT probably won't exist in 5 years: Masterc...</td>\n",
       "      <td>https://cointelegraph.com/news/swift-probably-...</td>\n",
       "    </tr>\n",
       "    <tr>\n",
       "      <th>9838</th>\n",
       "      <td>2023-06-05 12:45:00</td>\n",
       "      <td>{'class': 'neutral', 'polarity': 0.0, 'subject...</td>\n",
       "      <td>CryptoPotato</td>\n",
       "      <td>altcoin</td>\n",
       "      <td>Atomic Wallet has not yet released the specifi...</td>\n",
       "      <td>Over $35 Million Reportely Stolen From Atomic ...</td>\n",
       "      <td>https://cryptopotato.com/over-35-million-repor...</td>\n",
       "    </tr>\n",
       "    <tr>\n",
       "      <th>22207</th>\n",
       "      <td>2022-08-08 10:40:32</td>\n",
       "      <td>{'class': 'positive', 'polarity': 0.6, 'subjec...</td>\n",
       "      <td>CoinTelegraph</td>\n",
       "      <td>bitcoin</td>\n",
       "      <td>The Google trends data for the popular search ...</td>\n",
       "      <td>Nigeria becomes the most crypto-obsessed natio...</td>\n",
       "      <td>https://cointelegraph.com/news/nigeria-becomes...</td>\n",
       "    </tr>\n",
       "    <tr>\n",
       "      <th>26305</th>\n",
       "      <td>2022-04-29 15:10:00</td>\n",
       "      <td>{'class': 'neutral', 'polarity': 0.0, 'subject...</td>\n",
       "      <td>CryptoPotato</td>\n",
       "      <td>bitcoin</td>\n",
       "      <td>The central bank of Switzerland may be mulling...</td>\n",
       "      <td>Swiss National Bank Chairman: Bitcoin Does Not...</td>\n",
       "      <td>https://cryptopotato.com/swiss-national-bank-c...</td>\n",
       "    </tr>\n",
       "    <tr>\n",
       "      <th>19095</th>\n",
       "      <td>2022-10-26 16:56:00</td>\n",
       "      <td>{'class': 'neutral', 'polarity': 0.0, 'subject...</td>\n",
       "      <td>CryptoNews</td>\n",
       "      <td>altcoin</td>\n",
       "      <td>Meta recently revealed its partnership with Fr...</td>\n",
       "      <td>Meta Partners with Fashion Company L'OrÃ©al to...</td>\n",
       "      <td>https://cryptonews.com/news/meta-partners-with...</td>\n",
       "    </tr>\n",
       "  </tbody>\n",
       "</table>\n",
       "</div>"
      ],
      "text/plain": [
       "                      date                                          sentiment  \\\n",
       "9021   2023-06-22 13:37:00  {'class': 'neutral', 'polarity': 0.0, 'subject...   \n",
       "16242  2023-01-07 10:52:57  {'class': 'positive', 'polarity': 0.12, 'subje...   \n",
       "12452  2023-04-05 20:38:00  {'class': 'positive', 'polarity': 0.29, 'subje...   \n",
       "29243  2022-02-17 15:19:00  {'class': 'negative', 'polarity': -0.12, 'subj...   \n",
       "26599  2022-04-22 13:01:11  {'class': 'positive', 'polarity': 0.02, 'subje...   \n",
       "25176  2022-05-26 10:26:00  {'class': 'negative', 'polarity': -0.19, 'subj...   \n",
       "9838   2023-06-05 12:45:00  {'class': 'neutral', 'polarity': 0.0, 'subject...   \n",
       "22207  2022-08-08 10:40:32  {'class': 'positive', 'polarity': 0.6, 'subjec...   \n",
       "26305  2022-04-29 15:10:00  {'class': 'neutral', 'polarity': 0.0, 'subject...   \n",
       "19095  2022-10-26 16:56:00  {'class': 'neutral', 'polarity': 0.0, 'subject...   \n",
       "\n",
       "              source     subject  \\\n",
       "9021    CryptoPotato     bitcoin   \n",
       "16242  CoinTelegraph     bitcoin   \n",
       "12452     CryptoNews     altcoin   \n",
       "29243     CryptoNews     bitcoin   \n",
       "26599  CoinTelegraph  blockchain   \n",
       "25176  CoinTelegraph  blockchain   \n",
       "9838    CryptoPotato     altcoin   \n",
       "22207  CoinTelegraph     bitcoin   \n",
       "26305   CryptoPotato     bitcoin   \n",
       "19095     CryptoNews     altcoin   \n",
       "\n",
       "                                                    text  \\\n",
       "9021   ChatGPT thinks there are seven factors that co...   \n",
       "16242  Bets are increasing on a push higher for Bitco...   \n",
       "12452  The cryptocurrency market remains strong and u...   \n",
       "29243  'The Central Bank wants to ban crypto <...> Th...   \n",
       "26599  The industry may have 10 years or less to devi...   \n",
       "25176  Michael Miebach, CEO of Mastercard told an aud...   \n",
       "9838   Atomic Wallet has not yet released the specifi...   \n",
       "22207  The Google trends data for the popular search ...   \n",
       "26305  The central bank of Switzerland may be mulling...   \n",
       "19095  Meta recently revealed its partnership with Fr...   \n",
       "\n",
       "                                                   title  \\\n",
       "9021   After $30K: 7 Things for Bitcoin’s Price to Re...   \n",
       "16242  Bitcoin price nears 3-week high as trader says...   \n",
       "12452   Best Crypto to Buy Now 5 April \\x93 RPL, LDO, OP   \n",
       "29243  Late Drama Threatens to Disrupt Russian Crypto...   \n",
       "26599  Quantum computing to run economic models on cr...   \n",
       "25176  SWIFT probably won't exist in 5 years: Masterc...   \n",
       "9838   Over $35 Million Reportely Stolen From Atomic ...   \n",
       "22207  Nigeria becomes the most crypto-obsessed natio...   \n",
       "26305  Swiss National Bank Chairman: Bitcoin Does Not...   \n",
       "19095  Meta Partners with Fashion Company L'OrÃ©al to...   \n",
       "\n",
       "                                                     url  \n",
       "9021   https://cryptopotato.com/after-30k-7-things-fo...  \n",
       "16242  https://cointelegraph.com/news/bitcoin-price-n...  \n",
       "12452  https://cryptonews.com/news/best-crypto-buy-no...  \n",
       "29243  https://cryptonews.com/news/late-drama-threate...  \n",
       "26599  https://cointelegraph.com/news/quantum-computi...  \n",
       "25176  https://cointelegraph.com/news/swift-probably-...  \n",
       "9838   https://cryptopotato.com/over-35-million-repor...  \n",
       "22207  https://cointelegraph.com/news/nigeria-becomes...  \n",
       "26305  https://cryptopotato.com/swiss-national-bank-c...  \n",
       "19095  https://cryptonews.com/news/meta-partners-with...  "
      ]
     },
     "execution_count": 28,
     "metadata": {},
     "output_type": "execute_result"
    }
   ],
   "source": [
    "# Display a set of 10 random rows from the dataset.\n",
    "df.sample(10)"
   ]
  },
  {
   "cell_type": "markdown",
   "metadata": {},
   "source": [
    "## Transforming data "
   ]
  },
  {
   "cell_type": "markdown",
   "metadata": {},
   "source": [
    "### Extract sentiment labels from dictionary string"
   ]
  },
  {
   "cell_type": "code",
   "execution_count": 39,
   "metadata": {},
   "outputs": [
    {
     "data": {
      "application/vnd.microsoft.datawrangler.viewer.v0+json": {
       "columns": [
        {
         "name": "index",
         "rawType": "int64",
         "type": "integer"
        },
        {
         "name": "sentiment",
         "rawType": "object",
         "type": "string"
        },
        {
         "name": "sentiment_class",
         "rawType": "object",
         "type": "string"
        },
        {
         "name": "polarity",
         "rawType": "float64",
         "type": "float"
        },
        {
         "name": "subjectivity",
         "rawType": "float64",
         "type": "float"
        }
       ],
       "conversionMethod": "pd.DataFrame",
       "ref": "000e4879-a52d-4607-a767-b16d326c5428",
       "rows": [
        [
         "0",
         "{'class': 'negative', 'polarity': -0.1, 'subjectivity': 0.6}",
         "negative",
         "-0.1",
         "0.6"
        ],
        [
         "1",
         "{'class': 'neutral', 'polarity': 0.0, 'subjectivity': 0.0}",
         "neutral",
         "0.0",
         "0.0"
        ],
        [
         "2",
         "{'class': 'positive', 'polarity': 0.05, 'subjectivity': 0.05}",
         "positive",
         "0.05",
         "0.05"
        ],
        [
         "3",
         "{'class': 'positive', 'polarity': 0.5, 'subjectivity': 0.9}",
         "positive",
         "0.5",
         "0.9"
        ],
        [
         "4",
         "{'class': 'neutral', 'polarity': 0.0, 'subjectivity': 0.0}",
         "neutral",
         "0.0",
         "0.0"
        ]
       ],
       "shape": {
        "columns": 4,
        "rows": 5
       }
      },
      "text/html": [
       "<div>\n",
       "<style scoped>\n",
       "    .dataframe tbody tr th:only-of-type {\n",
       "        vertical-align: middle;\n",
       "    }\n",
       "\n",
       "    .dataframe tbody tr th {\n",
       "        vertical-align: top;\n",
       "    }\n",
       "\n",
       "    .dataframe thead th {\n",
       "        text-align: right;\n",
       "    }\n",
       "</style>\n",
       "<table border=\"1\" class=\"dataframe\">\n",
       "  <thead>\n",
       "    <tr style=\"text-align: right;\">\n",
       "      <th></th>\n",
       "      <th>sentiment</th>\n",
       "      <th>sentiment_class</th>\n",
       "      <th>polarity</th>\n",
       "      <th>subjectivity</th>\n",
       "    </tr>\n",
       "  </thead>\n",
       "  <tbody>\n",
       "    <tr>\n",
       "      <th>0</th>\n",
       "      <td>{'class': 'negative', 'polarity': -0.1, 'subje...</td>\n",
       "      <td>negative</td>\n",
       "      <td>-0.10</td>\n",
       "      <td>0.60</td>\n",
       "    </tr>\n",
       "    <tr>\n",
       "      <th>1</th>\n",
       "      <td>{'class': 'neutral', 'polarity': 0.0, 'subject...</td>\n",
       "      <td>neutral</td>\n",
       "      <td>0.00</td>\n",
       "      <td>0.00</td>\n",
       "    </tr>\n",
       "    <tr>\n",
       "      <th>2</th>\n",
       "      <td>{'class': 'positive', 'polarity': 0.05, 'subje...</td>\n",
       "      <td>positive</td>\n",
       "      <td>0.05</td>\n",
       "      <td>0.05</td>\n",
       "    </tr>\n",
       "    <tr>\n",
       "      <th>3</th>\n",
       "      <td>{'class': 'positive', 'polarity': 0.5, 'subjec...</td>\n",
       "      <td>positive</td>\n",
       "      <td>0.50</td>\n",
       "      <td>0.90</td>\n",
       "    </tr>\n",
       "    <tr>\n",
       "      <th>4</th>\n",
       "      <td>{'class': 'neutral', 'polarity': 0.0, 'subject...</td>\n",
       "      <td>neutral</td>\n",
       "      <td>0.00</td>\n",
       "      <td>0.00</td>\n",
       "    </tr>\n",
       "  </tbody>\n",
       "</table>\n",
       "</div>"
      ],
      "text/plain": [
       "                                           sentiment sentiment_class  \\\n",
       "0  {'class': 'negative', 'polarity': -0.1, 'subje...        negative   \n",
       "1  {'class': 'neutral', 'polarity': 0.0, 'subject...         neutral   \n",
       "2  {'class': 'positive', 'polarity': 0.05, 'subje...        positive   \n",
       "3  {'class': 'positive', 'polarity': 0.5, 'subjec...        positive   \n",
       "4  {'class': 'neutral', 'polarity': 0.0, 'subject...         neutral   \n",
       "\n",
       "   polarity  subjectivity  \n",
       "0     -0.10          0.60  \n",
       "1      0.00          0.00  \n",
       "2      0.05          0.05  \n",
       "3      0.50          0.90  \n",
       "4      0.00          0.00  "
      ]
     },
     "execution_count": 39,
     "metadata": {},
     "output_type": "execute_result"
    }
   ],
   "source": [
    "def extract_sentiment_components(sentiment_str):\n",
    "    try:\n",
    "        # Check if the sentiment is already a dictionary\n",
    "        if isinstance(sentiment_str, dict):\n",
    "            return {\n",
    "                'sentiment_class': sentiment_str.get('class'),\n",
    "                'polarity': sentiment_str.get('polarity'),\n",
    "                'subjectivity': sentiment_str.get('subjectivity')\n",
    "            }\n",
    "            \n",
    "        # Otherwise, parse it as a string representation of a dictionary\n",
    "        sentiment_dict = ast.literal_eval(sentiment_str)\n",
    "        return {\n",
    "            'sentiment_class': sentiment_dict.get('class'),\n",
    "            'polarity': sentiment_dict.get('polarity'),\n",
    "            'subjectivity': sentiment_dict.get('subjectivity')\n",
    "        }\n",
    "    except Exception as e:\n",
    "        print(f\"Error parsing sentiment: {sentiment_str}\")\n",
    "        print(f\"Error message: {e}\")\n",
    "        return {'sentiment_class': None, 'polarity': None, 'subjectivity': None}\n",
    "\n",
    "# Apply the function to create new columns\n",
    "sentiment_components = df['sentiment'].apply(extract_sentiment_components)\n",
    "\n",
    "# Extract the components into separate columns\n",
    "df['sentiment_class'] = sentiment_components.apply(lambda x: x['sentiment_class'])\n",
    "df['polarity'] = sentiment_components.apply(lambda x: x['polarity'])\n",
    "df['subjectivity'] = sentiment_components.apply(lambda x: x['subjectivity'])\n",
    "\n",
    "# Optionally drop the original sentiment columns\n",
    "# df.drop(columns=['sentiment', 'sentiment_dict'], inplace=True, errors='ignore')\n",
    "\n",
    "df[['sentiment', 'sentiment_class', 'polarity', 'subjectivity']].head()"
   ]
  },
  {
   "cell_type": "markdown",
   "metadata": {},
   "source": [
    "### Map sentiment classes to numeric labels"
   ]
  },
  {
   "cell_type": "code",
   "execution_count": 40,
   "metadata": {},
   "outputs": [
    {
     "data": {
      "application/vnd.microsoft.datawrangler.viewer.v0+json": {
       "columns": [
        {
         "name": "index",
         "rawType": "int64",
         "type": "integer"
        },
        {
         "name": "sentiment_class",
         "rawType": "int64",
         "type": "integer"
        }
       ],
       "conversionMethod": "pd.DataFrame",
       "ref": "1aec21e0-dc27-4fc2-b70d-94ebe6307fa3",
       "rows": [
        [
         "0",
         "0"
        ],
        [
         "1",
         "1"
        ],
        [
         "2",
         "2"
        ],
        [
         "3",
         "2"
        ],
        [
         "4",
         "1"
        ]
       ],
       "shape": {
        "columns": 1,
        "rows": 5
       }
      },
      "text/html": [
       "<div>\n",
       "<style scoped>\n",
       "    .dataframe tbody tr th:only-of-type {\n",
       "        vertical-align: middle;\n",
       "    }\n",
       "\n",
       "    .dataframe tbody tr th {\n",
       "        vertical-align: top;\n",
       "    }\n",
       "\n",
       "    .dataframe thead th {\n",
       "        text-align: right;\n",
       "    }\n",
       "</style>\n",
       "<table border=\"1\" class=\"dataframe\">\n",
       "  <thead>\n",
       "    <tr style=\"text-align: right;\">\n",
       "      <th></th>\n",
       "      <th>sentiment_class</th>\n",
       "    </tr>\n",
       "  </thead>\n",
       "  <tbody>\n",
       "    <tr>\n",
       "      <th>0</th>\n",
       "      <td>0</td>\n",
       "    </tr>\n",
       "    <tr>\n",
       "      <th>1</th>\n",
       "      <td>1</td>\n",
       "    </tr>\n",
       "    <tr>\n",
       "      <th>2</th>\n",
       "      <td>2</td>\n",
       "    </tr>\n",
       "    <tr>\n",
       "      <th>3</th>\n",
       "      <td>2</td>\n",
       "    </tr>\n",
       "    <tr>\n",
       "      <th>4</th>\n",
       "      <td>1</td>\n",
       "    </tr>\n",
       "  </tbody>\n",
       "</table>\n",
       "</div>"
      ],
      "text/plain": [
       "   sentiment_class\n",
       "0                0\n",
       "1                1\n",
       "2                2\n",
       "3                2\n",
       "4                1"
      ]
     },
     "execution_count": 40,
     "metadata": {},
     "output_type": "execute_result"
    }
   ],
   "source": [
    "label2id = {\"negative\": 0, \"neutral\": 1, \"positive\": 2}\n",
    "df['sentiment_class'] = df['sentiment_class'].str.lower().str.strip().map(label2id)\n",
    "\n",
    "df[['sentiment_class']].head()"
   ]
  },
  {
   "cell_type": "markdown",
   "metadata": {},
   "source": [
    "### Convert publication timestamp to datetime format"
   ]
  },
  {
   "cell_type": "code",
   "execution_count": 30,
   "metadata": {},
   "outputs": [
    {
     "data": {
      "text/plain": [
       "count                            31035\n",
       "mean     2023-01-12 21:01:43.553665280\n",
       "min                2021-10-12 20:00:00\n",
       "25%         2022-07-10 21:18:26.500000\n",
       "50%                2023-01-24 17:00:04\n",
       "75%                2023-07-18 11:34:35\n",
       "max                2023-12-19 06:40:41\n",
       "Name: date, dtype: object"
      ]
     },
     "execution_count": 30,
     "metadata": {},
     "output_type": "execute_result"
    }
   ],
   "source": [
    "df['date'] = pd.to_datetime(df['date'], errors='coerce')\n",
    "df['date'].describe()"
   ]
  },
  {
   "cell_type": "markdown",
   "metadata": {},
   "source": [
    "### Visualise distribution of sentiment classes "
   ]
  },
  {
   "cell_type": "code",
   "execution_count": 31,
   "metadata": {},
   "outputs": [],
   "source": [
    "sentiment_counts = df['sentiment_class'].value_counts()"
   ]
  },
  {
   "cell_type": "code",
   "execution_count": 32,
   "metadata": {},
   "outputs": [
    {
     "data": {
      "image/png": "[encoded data removed]",
      "text/plain": [
       "<Figure size 1000x600 with 1 Axes>"
      ]
     },
     "metadata": {},
     "output_type": "display_data"
    }
   ],
   "source": [
    "plt.figure(figsize=(10, 6))\n",
    "sentiment_counts.plot(kind='bar')\n",
    "plt.title('Sentiment Distribution')\n",
    "plt.xlabel('Sentiment')\n",
    "plt.ylabel('Count')\n",
    "plt.tight_layout()\n",
    "plt.show()"
   ]
  },
  {
   "cell_type": "markdown",
   "metadata": {},
   "source": [
    "### Combine headline and content"
   ]
  },
  {
   "cell_type": "code",
   "execution_count": 42,
   "metadata": {},
   "outputs": [
    {
     "data": {
      "application/vnd.microsoft.datawrangler.viewer.v0+json": {
       "columns": [
        {
         "name": "index",
         "rawType": "int64",
         "type": "integer"
        },
        {
         "name": "date",
         "rawType": "object",
         "type": "string"
        },
        {
         "name": "sentiment",
         "rawType": "object",
         "type": "string"
        },
        {
         "name": "source",
         "rawType": "object",
         "type": "string"
        },
        {
         "name": "subject",
         "rawType": "object",
         "type": "string"
        },
        {
         "name": "text",
         "rawType": "object",
         "type": "string"
        },
        {
         "name": "title",
         "rawType": "object",
         "type": "string"
        },
        {
         "name": "url",
         "rawType": "object",
         "type": "string"
        },
        {
         "name": "sentiment_class",
         "rawType": "int64",
         "type": "integer"
        },
        {
         "name": "polarity",
         "rawType": "float64",
         "type": "float"
        },
        {
         "name": "subjectivity",
         "rawType": "float64",
         "type": "float"
        },
        {
         "name": "clean_text",
         "rawType": "object",
         "type": "string"
        },
        {
         "name": "full_text",
         "rawType": "object",
         "type": "string"
        }
       ],
       "conversionMethod": "pd.DataFrame",
       "ref": "e27bc0c4-b0b1-4d62-aa87-8aeecf6515a1",
       "rows": [
        [
         "0",
         "2023-12-19 06:40:41",
         "{'class': 'negative', 'polarity': -0.1, 'subjectivity': 0.6}",
         "CryptoNews",
         "altcoin",
         "Grayscale CEO Michael Sonnenshein believes the SEC needs to approve spot Bitcoin exchange-traded funds (ETFs) simultaneously.",
         "Grayscale CEO Calls for Simultaneous Approval of Spot Products to Level the Field",
         "https://cryptonews.comhttps://cryptonews.com/news/grayscale-ceo-calls-for-simultaneous-approval-of-spot-products-to-level-the-field.htm",
         "0",
         "-0.1",
         "0.6",
         "Grayscale CEO Michael Sonnenshein believes the SEC needs to approve spot Bitcoin exchange traded funds ETFs simultaneously",
         "Grayscale CEO Calls for Simultaneous Approval of Spot Products to Level the Field Grayscale CEO Michael Sonnenshein believes the SEC needs to approve spot Bitcoin exchange-traded funds (ETFs) simultaneously."
        ],
        [
         "1",
         "2023-12-19 06:03:24",
         "{'class': 'neutral', 'polarity': 0.0, 'subjectivity': 0.0}",
         "CryptoNews",
         "blockchain",
         "In an exclusive interview with CryptoNews, Manhar Garegrat, the Country Head for India and Global Partnerships of Liminal Custody, shares insights into crypto industry's collaborations with India government.",
         "Indian Government is Actively Collaborating With Crypto Industry: Liminal Custody’s Country Head",
         "https://cryptonews.comhttps://cryptonews.com/news/indian-government-is-actively-collaborating-with-crypto-industry.htm",
         "1",
         "0.0",
         "0.0",
         "In an exclusive interview with CryptoNews Manhar Garegrat the Country Head for India and Global Partnerships of Liminal Custody shares insights into crypto industry s collaborations with India government",
         "Indian Government is Actively Collaborating With Crypto Industry: Liminal Custody’s Country Head In an exclusive interview with CryptoNews, Manhar Garegrat, the Country Head for India and Global Partnerships of Liminal Custody, shares insights into crypto industry's collaborations with India government."
        ],
        [
         "2",
         "2023-12-19 05:55:14",
         "{'class': 'positive', 'polarity': 0.05, 'subjectivity': 0.05}",
         "CryptoNews",
         "blockchain",
         "According to the Federal Court ruling on December 18, former Binance CEO Changpeng 'CZ' Zhao has been ordered to pay $150 million, while Binance will pay $2.7 billion to conclude the CFTC enforcement action.",
         "Judge Approves Settlement: Binance to Pay $1.5 Billion to CFTC, CZ to Pay $150 Million Fine",
         "https://cryptonews.comhttps://cryptonews.com/news/judge-approves-settlement-binance-to-pay-1-5-billion-to-cftc-cz-to-pay-150-million-fine.htm",
         "2",
         "0.05",
         "0.05",
         "According to the Federal Court ruling on December 18 former Binance CEO Changpeng CZ Zhao has been ordered to pay 150 million while Binance will pay 2 7 billion to conclude the CFTC enforcement action",
         "Judge Approves Settlement: Binance to Pay $1.5 Billion to CFTC, CZ to Pay $150 Million Fine According to the Federal Court ruling on December 18, former Binance CEO Changpeng 'CZ' Zhao has been ordered to pay $150 million, while Binance will pay $2.7 billion to conclude the CFTC enforcement action."
        ],
        [
         "3",
         "2023-12-19 05:35:26",
         "{'class': 'positive', 'polarity': 0.5, 'subjectivity': 0.9}",
         "CoinTelegraph",
         "blockchain",
         "Some suggest EVM inscriptions are the latest way for retail to access low-cap coins, while others argue it’s an over-hyped fad. Whatever it is, it’s clogging up the blockchain.",
         "Why a gold rush for inscriptions has broken half a dozen blockchains",
         "https://cointelegraph.com/news/inscriptions-evm-frenzy-clogs-up-blockchains",
         "2",
         "0.5",
         "0.9",
         "Some suggest EVM inscriptions are the latest way for retail to access low cap coins while others argue it s an over hyped fad Whatever it is it s clogging up the blockchain",
         "Why a gold rush for inscriptions has broken half a dozen blockchains Some suggest EVM inscriptions are the latest way for retail to access low-cap coins, while others argue it’s an over-hyped fad. Whatever it is, it’s clogging up the blockchain."
        ],
        [
         "4",
         "2023-12-19 05:31:08",
         "{'class': 'neutral', 'polarity': 0.0, 'subjectivity': 0.0}",
         "CoinTelegraph",
         "ethereum",
         "A decision by bloXroute Labs to start censoring OFAC-sanctioned blocks has been seen as a loss for Ethereum censorship resistance.",
         "‘Concerning precedent’ — bloXroute Labs' MEV relays to reject OFAC blocks",
         "https://cointelegraph.com/news/concerning-precedent-bloxroute-labs-mev-relays-to-reject-ofac-blocks",
         "1",
         "0.0",
         "0.0",
         "A decision by bloXroute Labs to start censoring OFAC sanctioned blocks has been seen as a loss for Ethereum censorship resistance",
         "‘Concerning precedent’ — bloXroute Labs' MEV relays to reject OFAC blocks A decision by bloXroute Labs to start censoring OFAC-sanctioned blocks has been seen as a loss for Ethereum censorship resistance."
        ]
       ],
       "shape": {
        "columns": 12,
        "rows": 5
       }
      },
      "text/html": [
       "<div>\n",
       "<style scoped>\n",
       "    .dataframe tbody tr th:only-of-type {\n",
       "        vertical-align: middle;\n",
       "    }\n",
       "\n",
       "    .dataframe tbody tr th {\n",
       "        vertical-align: top;\n",
       "    }\n",
       "\n",
       "    .dataframe thead th {\n",
       "        text-align: right;\n",
       "    }\n",
       "</style>\n",
       "<table border=\"1\" class=\"dataframe\">\n",
       "  <thead>\n",
       "    <tr style=\"text-align: right;\">\n",
       "      <th></th>\n",
       "      <th>date</th>\n",
       "      <th>sentiment</th>\n",
       "      <th>source</th>\n",
       "      <th>subject</th>\n",
       "      <th>text</th>\n",
       "      <th>title</th>\n",
       "      <th>url</th>\n",
       "      <th>sentiment_class</th>\n",
       "      <th>polarity</th>\n",
       "      <th>subjectivity</th>\n",
       "      <th>clean_text</th>\n",
       "      <th>full_text</th>\n",
       "    </tr>\n",
       "  </thead>\n",
       "  <tbody>\n",
       "    <tr>\n",
       "      <th>0</th>\n",
       "      <td>2023-12-19 06:40:41</td>\n",
       "      <td>{'class': 'negative', 'polarity': -0.1, 'subje...</td>\n",
       "      <td>CryptoNews</td>\n",
       "      <td>altcoin</td>\n",
       "      <td>Grayscale CEO Michael Sonnenshein believes the...</td>\n",
       "      <td>Grayscale CEO Calls for Simultaneous Approval ...</td>\n",
       "      <td>https://cryptonews.comhttps://cryptonews.com/n...</td>\n",
       "      <td>0</td>\n",
       "      <td>-0.10</td>\n",
       "      <td>0.60</td>\n",
       "      <td>Grayscale CEO Michael Sonnenshein believes the...</td>\n",
       "      <td>Grayscale CEO Calls for Simultaneous Approval ...</td>\n",
       "    </tr>\n",
       "    <tr>\n",
       "      <th>1</th>\n",
       "      <td>2023-12-19 06:03:24</td>\n",
       "      <td>{'class': 'neutral', 'polarity': 0.0, 'subject...</td>\n",
       "      <td>CryptoNews</td>\n",
       "      <td>blockchain</td>\n",
       "      <td>In an exclusive interview with CryptoNews, Man...</td>\n",
       "      <td>Indian Government is Actively Collaborating Wi...</td>\n",
       "      <td>https://cryptonews.comhttps://cryptonews.com/n...</td>\n",
       "      <td>1</td>\n",
       "      <td>0.00</td>\n",
       "      <td>0.00</td>\n",
       "      <td>In an exclusive interview with CryptoNews Manh...</td>\n",
       "      <td>Indian Government is Actively Collaborating Wi...</td>\n",
       "    </tr>\n",
       "    <tr>\n",
       "      <th>2</th>\n",
       "      <td>2023-12-19 05:55:14</td>\n",
       "      <td>{'class': 'positive', 'polarity': 0.05, 'subje...</td>\n",
       "      <td>CryptoNews</td>\n",
       "      <td>blockchain</td>\n",
       "      <td>According to the Federal Court ruling on Decem...</td>\n",
       "      <td>Judge Approves Settlement: Binance to Pay $1.5...</td>\n",
       "      <td>https://cryptonews.comhttps://cryptonews.com/n...</td>\n",
       "      <td>2</td>\n",
       "      <td>0.05</td>\n",
       "      <td>0.05</td>\n",
       "      <td>According to the Federal Court ruling on Decem...</td>\n",
       "      <td>Judge Approves Settlement: Binance to Pay $1.5...</td>\n",
       "    </tr>\n",
       "    <tr>\n",
       "      <th>3</th>\n",
       "      <td>2023-12-19 05:35:26</td>\n",
       "      <td>{'class': 'positive', 'polarity': 0.5, 'subjec...</td>\n",
       "      <td>CoinTelegraph</td>\n",
       "      <td>blockchain</td>\n",
       "      <td>Some suggest EVM inscriptions are the latest w...</td>\n",
       "      <td>Why a gold rush for inscriptions has broken ha...</td>\n",
       "      <td>https://cointelegraph.com/news/inscriptions-ev...</td>\n",
       "      <td>2</td>\n",
       "      <td>0.50</td>\n",
       "      <td>0.90</td>\n",
       "      <td>Some suggest EVM inscriptions are the latest w...</td>\n",
       "      <td>Why a gold rush for inscriptions has broken ha...</td>\n",
       "    </tr>\n",
       "    <tr>\n",
       "      <th>4</th>\n",
       "      <td>2023-12-19 05:31:08</td>\n",
       "      <td>{'class': 'neutral', 'polarity': 0.0, 'subject...</td>\n",
       "      <td>CoinTelegraph</td>\n",
       "      <td>ethereum</td>\n",
       "      <td>A decision by bloXroute Labs to start censorin...</td>\n",
       "      <td>‘Concerning precedent’ — bloXroute Labs' MEV r...</td>\n",
       "      <td>https://cointelegraph.com/news/concerning-prec...</td>\n",
       "      <td>1</td>\n",
       "      <td>0.00</td>\n",
       "      <td>0.00</td>\n",
       "      <td>A decision by bloXroute Labs to start censorin...</td>\n",
       "      <td>‘Concerning precedent’ — bloXroute Labs' MEV r...</td>\n",
       "    </tr>\n",
       "  </tbody>\n",
       "</table>\n",
       "</div>"
      ],
      "text/plain": [
       "                  date                                          sentiment  \\\n",
       "0  2023-12-19 06:40:41  {'class': 'negative', 'polarity': -0.1, 'subje...   \n",
       "1  2023-12-19 06:03:24  {'class': 'neutral', 'polarity': 0.0, 'subject...   \n",
       "2  2023-12-19 05:55:14  {'class': 'positive', 'polarity': 0.05, 'subje...   \n",
       "3  2023-12-19 05:35:26  {'class': 'positive', 'polarity': 0.5, 'subjec...   \n",
       "4  2023-12-19 05:31:08  {'class': 'neutral', 'polarity': 0.0, 'subject...   \n",
       "\n",
       "          source     subject  \\\n",
       "0     CryptoNews     altcoin   \n",
       "1     CryptoNews  blockchain   \n",
       "2     CryptoNews  blockchain   \n",
       "3  CoinTelegraph  blockchain   \n",
       "4  CoinTelegraph    ethereum   \n",
       "\n",
       "                                                text  \\\n",
       "0  Grayscale CEO Michael Sonnenshein believes the...   \n",
       "1  In an exclusive interview with CryptoNews, Man...   \n",
       "2  According to the Federal Court ruling on Decem...   \n",
       "3  Some suggest EVM inscriptions are the latest w...   \n",
       "4  A decision by bloXroute Labs to start censorin...   \n",
       "\n",
       "                                               title  \\\n",
       "0  Grayscale CEO Calls for Simultaneous Approval ...   \n",
       "1  Indian Government is Actively Collaborating Wi...   \n",
       "2  Judge Approves Settlement: Binance to Pay $1.5...   \n",
       "3  Why a gold rush for inscriptions has broken ha...   \n",
       "4  ‘Concerning precedent’ — bloXroute Labs' MEV r...   \n",
       "\n",
       "                                                 url  sentiment_class  \\\n",
       "0  https://cryptonews.comhttps://cryptonews.com/n...                0   \n",
       "1  https://cryptonews.comhttps://cryptonews.com/n...                1   \n",
       "2  https://cryptonews.comhttps://cryptonews.com/n...                2   \n",
       "3  https://cointelegraph.com/news/inscriptions-ev...                2   \n",
       "4  https://cointelegraph.com/news/concerning-prec...                1   \n",
       "\n",
       "   polarity  subjectivity                                         clean_text  \\\n",
       "0     -0.10          0.60  Grayscale CEO Michael Sonnenshein believes the...   \n",
       "1      0.00          0.00  In an exclusive interview with CryptoNews Manh...   \n",
       "2      0.05          0.05  According to the Federal Court ruling on Decem...   \n",
       "3      0.50          0.90  Some suggest EVM inscriptions are the latest w...   \n",
       "4      0.00          0.00  A decision by bloXroute Labs to start censorin...   \n",
       "\n",
       "                                           full_text  \n",
       "0  Grayscale CEO Calls for Simultaneous Approval ...  \n",
       "1  Indian Government is Actively Collaborating Wi...  \n",
       "2  Judge Approves Settlement: Binance to Pay $1.5...  \n",
       "3  Why a gold rush for inscriptions has broken ha...  \n",
       "4  ‘Concerning precedent’ — bloXroute Labs' MEV r...  "
      ]
     },
     "execution_count": 42,
     "metadata": {},
     "output_type": "execute_result"
    }
   ],
   "source": [
    "df['full_text'] = df['title'].fillna('') + ' ' + df['text'].fillna('')\n",
    "df.head()"
   ]
  },
  {
   "cell_type": "markdown",
   "metadata": {},
   "source": [
    "## Cleaning text data"
   ]
  },
  {
   "cell_type": "code",
   "execution_count": 43,
   "metadata": {},
   "outputs": [
    {
     "data": {
      "application/vnd.microsoft.datawrangler.viewer.v0+json": {
       "columns": [
        {
         "name": "index",
         "rawType": "int64",
         "type": "integer"
        },
        {
         "name": "date",
         "rawType": "object",
         "type": "string"
        },
        {
         "name": "sentiment",
         "rawType": "object",
         "type": "string"
        },
        {
         "name": "source",
         "rawType": "object",
         "type": "string"
        },
        {
         "name": "subject",
         "rawType": "object",
         "type": "string"
        },
        {
         "name": "text",
         "rawType": "object",
         "type": "string"
        },
        {
         "name": "title",
         "rawType": "object",
         "type": "string"
        },
        {
         "name": "url",
         "rawType": "object",
         "type": "string"
        },
        {
         "name": "sentiment_class",
         "rawType": "int64",
         "type": "integer"
        },
        {
         "name": "polarity",
         "rawType": "float64",
         "type": "float"
        },
        {
         "name": "subjectivity",
         "rawType": "float64",
         "type": "float"
        },
        {
         "name": "clean_text",
         "rawType": "object",
         "type": "string"
        },
        {
         "name": "full_text",
         "rawType": "object",
         "type": "string"
        }
       ],
       "conversionMethod": "pd.DataFrame",
       "ref": "8e85cc4d-be7a-4ad0-93d5-8a85d73ca117",
       "rows": [
        [
         "0",
         "2023-12-19 06:40:41",
         "{'class': 'negative', 'polarity': -0.1, 'subjectivity': 0.6}",
         "CryptoNews",
         "altcoin",
         "Grayscale CEO Michael Sonnenshein believes the SEC needs to approve spot Bitcoin exchange-traded funds (ETFs) simultaneously.",
         "Grayscale CEO Calls for Simultaneous Approval of Spot Products to Level the Field",
         "https://cryptonews.comhttps://cryptonews.com/news/grayscale-ceo-calls-for-simultaneous-approval-of-spot-products-to-level-the-field.htm",
         "0",
         "-0.1",
         "0.6",
         "Grayscale CEO Michael Sonnenshein believes the SEC needs to approve spot Bitcoin exchange traded funds ETFs simultaneously",
         "Grayscale CEO Calls for Simultaneous Approval of Spot Products to Level the Field Grayscale CEO Michael Sonnenshein believes the SEC needs to approve spot Bitcoin exchange-traded funds (ETFs) simultaneously."
        ],
        [
         "1",
         "2023-12-19 06:03:24",
         "{'class': 'neutral', 'polarity': 0.0, 'subjectivity': 0.0}",
         "CryptoNews",
         "blockchain",
         "In an exclusive interview with CryptoNews, Manhar Garegrat, the Country Head for India and Global Partnerships of Liminal Custody, shares insights into crypto industry's collaborations with India government.",
         "Indian Government is Actively Collaborating With Crypto Industry: Liminal Custody’s Country Head",
         "https://cryptonews.comhttps://cryptonews.com/news/indian-government-is-actively-collaborating-with-crypto-industry.htm",
         "1",
         "0.0",
         "0.0",
         "In an exclusive interview with CryptoNews Manhar Garegrat the Country Head for India and Global Partnerships of Liminal Custody shares insights into crypto industry s collaborations with India government",
         "Indian Government is Actively Collaborating With Crypto Industry: Liminal Custody’s Country Head In an exclusive interview with CryptoNews, Manhar Garegrat, the Country Head for India and Global Partnerships of Liminal Custody, shares insights into crypto industry's collaborations with India government."
        ],
        [
         "2",
         "2023-12-19 05:55:14",
         "{'class': 'positive', 'polarity': 0.05, 'subjectivity': 0.05}",
         "CryptoNews",
         "blockchain",
         "According to the Federal Court ruling on December 18, former Binance CEO Changpeng 'CZ' Zhao has been ordered to pay $150 million, while Binance will pay $2.7 billion to conclude the CFTC enforcement action.",
         "Judge Approves Settlement: Binance to Pay $1.5 Billion to CFTC, CZ to Pay $150 Million Fine",
         "https://cryptonews.comhttps://cryptonews.com/news/judge-approves-settlement-binance-to-pay-1-5-billion-to-cftc-cz-to-pay-150-million-fine.htm",
         "2",
         "0.05",
         "0.05",
         "According to the Federal Court ruling on December 18 former Binance CEO Changpeng CZ Zhao has been ordered to pay 150 million while Binance will pay 2 7 billion to conclude the CFTC enforcement action",
         "Judge Approves Settlement: Binance to Pay $1.5 Billion to CFTC, CZ to Pay $150 Million Fine According to the Federal Court ruling on December 18, former Binance CEO Changpeng 'CZ' Zhao has been ordered to pay $150 million, while Binance will pay $2.7 billion to conclude the CFTC enforcement action."
        ],
        [
         "3",
         "2023-12-19 05:35:26",
         "{'class': 'positive', 'polarity': 0.5, 'subjectivity': 0.9}",
         "CoinTelegraph",
         "blockchain",
         "Some suggest EVM inscriptions are the latest way for retail to access low-cap coins, while others argue it’s an over-hyped fad. Whatever it is, it’s clogging up the blockchain.",
         "Why a gold rush for inscriptions has broken half a dozen blockchains",
         "https://cointelegraph.com/news/inscriptions-evm-frenzy-clogs-up-blockchains",
         "2",
         "0.5",
         "0.9",
         "Some suggest EVM inscriptions are the latest way for retail to access low cap coins while others argue it s an over hyped fad Whatever it is it s clogging up the blockchain",
         "Why a gold rush for inscriptions has broken half a dozen blockchains Some suggest EVM inscriptions are the latest way for retail to access low-cap coins, while others argue it’s an over-hyped fad. Whatever it is, it’s clogging up the blockchain."
        ],
        [
         "4",
         "2023-12-19 05:31:08",
         "{'class': 'neutral', 'polarity': 0.0, 'subjectivity': 0.0}",
         "CoinTelegraph",
         "ethereum",
         "A decision by bloXroute Labs to start censoring OFAC-sanctioned blocks has been seen as a loss for Ethereum censorship resistance.",
         "‘Concerning precedent’ — bloXroute Labs' MEV relays to reject OFAC blocks",
         "https://cointelegraph.com/news/concerning-precedent-bloxroute-labs-mev-relays-to-reject-ofac-blocks",
         "1",
         "0.0",
         "0.0",
         "A decision by bloXroute Labs to start censoring OFAC sanctioned blocks has been seen as a loss for Ethereum censorship resistance",
         "‘Concerning precedent’ — bloXroute Labs' MEV relays to reject OFAC blocks A decision by bloXroute Labs to start censoring OFAC-sanctioned blocks has been seen as a loss for Ethereum censorship resistance."
        ]
       ],
       "shape": {
        "columns": 12,
        "rows": 5
       }
      },
      "text/html": [
       "<div>\n",
       "<style scoped>\n",
       "    .dataframe tbody tr th:only-of-type {\n",
       "        vertical-align: middle;\n",
       "    }\n",
       "\n",
       "    .dataframe tbody tr th {\n",
       "        vertical-align: top;\n",
       "    }\n",
       "\n",
       "    .dataframe thead th {\n",
       "        text-align: right;\n",
       "    }\n",
       "</style>\n",
       "<table border=\"1\" class=\"dataframe\">\n",
       "  <thead>\n",
       "    <tr style=\"text-align: right;\">\n",
       "      <th></th>\n",
       "      <th>date</th>\n",
       "      <th>sentiment</th>\n",
       "      <th>source</th>\n",
       "      <th>subject</th>\n",
       "      <th>text</th>\n",
       "      <th>title</th>\n",
       "      <th>url</th>\n",
       "      <th>sentiment_class</th>\n",
       "      <th>polarity</th>\n",
       "      <th>subjectivity</th>\n",
       "      <th>clean_text</th>\n",
       "      <th>full_text</th>\n",
       "    </tr>\n",
       "  </thead>\n",
       "  <tbody>\n",
       "    <tr>\n",
       "      <th>0</th>\n",
       "      <td>2023-12-19 06:40:41</td>\n",
       "      <td>{'class': 'negative', 'polarity': -0.1, 'subje...</td>\n",
       "      <td>CryptoNews</td>\n",
       "      <td>altcoin</td>\n",
       "      <td>Grayscale CEO Michael Sonnenshein believes the...</td>\n",
       "      <td>Grayscale CEO Calls for Simultaneous Approval ...</td>\n",
       "      <td>https://cryptonews.comhttps://cryptonews.com/n...</td>\n",
       "      <td>0</td>\n",
       "      <td>-0.10</td>\n",
       "      <td>0.60</td>\n",
       "      <td>Grayscale CEO Michael Sonnenshein believes the...</td>\n",
       "      <td>Grayscale CEO Calls for Simultaneous Approval ...</td>\n",
       "    </tr>\n",
       "    <tr>\n",
       "      <th>1</th>\n",
       "      <td>2023-12-19 06:03:24</td>\n",
       "      <td>{'class': 'neutral', 'polarity': 0.0, 'subject...</td>\n",
       "      <td>CryptoNews</td>\n",
       "      <td>blockchain</td>\n",
       "      <td>In an exclusive interview with CryptoNews, Man...</td>\n",
       "      <td>Indian Government is Actively Collaborating Wi...</td>\n",
       "      <td>https://cryptonews.comhttps://cryptonews.com/n...</td>\n",
       "      <td>1</td>\n",
       "      <td>0.00</td>\n",
       "      <td>0.00</td>\n",
       "      <td>In an exclusive interview with CryptoNews Manh...</td>\n",
       "      <td>Indian Government is Actively Collaborating Wi...</td>\n",
       "    </tr>\n",
       "    <tr>\n",
       "      <th>2</th>\n",
       "      <td>2023-12-19 05:55:14</td>\n",
       "      <td>{'class': 'positive', 'polarity': 0.05, 'subje...</td>\n",
       "      <td>CryptoNews</td>\n",
       "      <td>blockchain</td>\n",
       "      <td>According to the Federal Court ruling on Decem...</td>\n",
       "      <td>Judge Approves Settlement: Binance to Pay $1.5...</td>\n",
       "      <td>https://cryptonews.comhttps://cryptonews.com/n...</td>\n",
       "      <td>2</td>\n",
       "      <td>0.05</td>\n",
       "      <td>0.05</td>\n",
       "      <td>According to the Federal Court ruling on Decem...</td>\n",
       "      <td>Judge Approves Settlement: Binance to Pay $1.5...</td>\n",
       "    </tr>\n",
       "    <tr>\n",
       "      <th>3</th>\n",
       "      <td>2023-12-19 05:35:26</td>\n",
       "      <td>{'class': 'positive', 'polarity': 0.5, 'subjec...</td>\n",
       "      <td>CoinTelegraph</td>\n",
       "      <td>blockchain</td>\n",
       "      <td>Some suggest EVM inscriptions are the latest w...</td>\n",
       "      <td>Why a gold rush for inscriptions has broken ha...</td>\n",
       "      <td>https://cointelegraph.com/news/inscriptions-ev...</td>\n",
       "      <td>2</td>\n",
       "      <td>0.50</td>\n",
       "      <td>0.90</td>\n",
       "      <td>Some suggest EVM inscriptions are the latest w...</td>\n",
       "      <td>Why a gold rush for inscriptions has broken ha...</td>\n",
       "    </tr>\n",
       "    <tr>\n",
       "      <th>4</th>\n",
       "      <td>2023-12-19 05:31:08</td>\n",
       "      <td>{'class': 'neutral', 'polarity': 0.0, 'subject...</td>\n",
       "      <td>CoinTelegraph</td>\n",
       "      <td>ethereum</td>\n",
       "      <td>A decision by bloXroute Labs to start censorin...</td>\n",
       "      <td>‘Concerning precedent’ — bloXroute Labs' MEV r...</td>\n",
       "      <td>https://cointelegraph.com/news/concerning-prec...</td>\n",
       "      <td>1</td>\n",
       "      <td>0.00</td>\n",
       "      <td>0.00</td>\n",
       "      <td>A decision by bloXroute Labs to start censorin...</td>\n",
       "      <td>‘Concerning precedent’ — bloXroute Labs' MEV r...</td>\n",
       "    </tr>\n",
       "  </tbody>\n",
       "</table>\n",
       "</div>"
      ],
      "text/plain": [
       "                  date                                          sentiment  \\\n",
       "0  2023-12-19 06:40:41  {'class': 'negative', 'polarity': -0.1, 'subje...   \n",
       "1  2023-12-19 06:03:24  {'class': 'neutral', 'polarity': 0.0, 'subject...   \n",
       "2  2023-12-19 05:55:14  {'class': 'positive', 'polarity': 0.05, 'subje...   \n",
       "3  2023-12-19 05:35:26  {'class': 'positive', 'polarity': 0.5, 'subjec...   \n",
       "4  2023-12-19 05:31:08  {'class': 'neutral', 'polarity': 0.0, 'subject...   \n",
       "\n",
       "          source     subject  \\\n",
       "0     CryptoNews     altcoin   \n",
       "1     CryptoNews  blockchain   \n",
       "2     CryptoNews  blockchain   \n",
       "3  CoinTelegraph  blockchain   \n",
       "4  CoinTelegraph    ethereum   \n",
       "\n",
       "                                                text  \\\n",
       "0  Grayscale CEO Michael Sonnenshein believes the...   \n",
       "1  In an exclusive interview with CryptoNews, Man...   \n",
       "2  According to the Federal Court ruling on Decem...   \n",
       "3  Some suggest EVM inscriptions are the latest w...   \n",
       "4  A decision by bloXroute Labs to start censorin...   \n",
       "\n",
       "                                               title  \\\n",
       "0  Grayscale CEO Calls for Simultaneous Approval ...   \n",
       "1  Indian Government is Actively Collaborating Wi...   \n",
       "2  Judge Approves Settlement: Binance to Pay $1.5...   \n",
       "3  Why a gold rush for inscriptions has broken ha...   \n",
       "4  ‘Concerning precedent’ — bloXroute Labs' MEV r...   \n",
       "\n",
       "                                                 url  sentiment_class  \\\n",
       "0  https://cryptonews.comhttps://cryptonews.com/n...                0   \n",
       "1  https://cryptonews.comhttps://cryptonews.com/n...                1   \n",
       "2  https://cryptonews.comhttps://cryptonews.com/n...                2   \n",
       "3  https://cointelegraph.com/news/inscriptions-ev...                2   \n",
       "4  https://cointelegraph.com/news/concerning-prec...                1   \n",
       "\n",
       "   polarity  subjectivity                                         clean_text  \\\n",
       "0     -0.10          0.60  Grayscale CEO Michael Sonnenshein believes the...   \n",
       "1      0.00          0.00  In an exclusive interview with CryptoNews Manh...   \n",
       "2      0.05          0.05  According to the Federal Court ruling on Decem...   \n",
       "3      0.50          0.90  Some suggest EVM inscriptions are the latest w...   \n",
       "4      0.00          0.00  A decision by bloXroute Labs to start censorin...   \n",
       "\n",
       "                                           full_text  \n",
       "0  Grayscale CEO Calls for Simultaneous Approval ...  \n",
       "1  Indian Government is Actively Collaborating Wi...  \n",
       "2  Judge Approves Settlement: Binance to Pay $1.5...  \n",
       "3  Why a gold rush for inscriptions has broken ha...  \n",
       "4  ‘Concerning precedent’ — bloXroute Labs' MEV r...  "
      ]
     },
     "execution_count": 43,
     "metadata": {},
     "output_type": "execute_result"
    }
   ],
   "source": [
    "def clean_text(text):\n",
    "    if isinstance(text, str):\n",
    "        # Remove URLs\n",
    "        text = re.sub(r'https?://\\S+|www\\.\\S+', '', text)\n",
    "        # Remove HTML tags\n",
    "        text = re.sub(r'<.*?>', '', text)\n",
    "        # Remove special characters\n",
    "        text = re.sub(r'[^\\w\\s]', ' ', text)\n",
    "        # Remove extra whitespace\n",
    "        text = re.sub(r'\\s+', ' ', text)\n",
    "        return text.strip()\n",
    "    return \"\"\n",
    "\n",
    "df['clean_text'] = df['text'].apply(clean_text)\n",
    "df.head()"
   ]
  },
  {
   "cell_type": "markdown",
   "metadata": {},
   "source": [
    "## Other"
   ]
  },
  {
   "cell_type": "code",
   "execution_count": 25,
   "metadata": {},
   "outputs": [
    {
     "data": {
      "text/plain": [
       "['gray',\n",
       " '##sca',\n",
       " '##le',\n",
       " 'ceo',\n",
       " 'michael',\n",
       " 'son',\n",
       " '##nen',\n",
       " '##sh',\n",
       " '##ein',\n",
       " 'believes',\n",
       " 'the',\n",
       " 'sec',\n",
       " 'needs',\n",
       " 'to',\n",
       " 'approve',\n",
       " 'spot',\n",
       " 'bit',\n",
       " '##co',\n",
       " '##in',\n",
       " 'exchange',\n",
       " '-',\n",
       " 'traded',\n",
       " 'funds',\n",
       " '(',\n",
       " 'et',\n",
       " '##fs',\n",
       " ')',\n",
       " 'simultaneously',\n",
       " '.']"
      ]
     },
     "execution_count": 25,
     "metadata": {},
     "output_type": "execute_result"
    }
   ],
   "source": [
    "# le = LabelEncoder()\n",
    "# df[\"label\"] = le.fit_transform(df['label'])\n",
    "\n",
    "tokenizer = BertTokenizer.from_pretrained(\"ProsusAI/finbert\")\n",
    "tokenizer_kwargs = {}\n",
    "tokens = tokenizer.tokenize(df[\"text\"].iloc[0], **tokenizer_kwargs)\n",
    "\n",
    "tokens"
   ]
  }
 ],
 "metadata": {
  "kernelspec": {
   "display_name": "venv",
   "language": "python",
   "name": "python3"
  },
  "language_info": {
   "codemirror_mode": {
    "name": "ipython",
    "version": 3
   },
   "file_extension": ".py",
   "mimetype": "text/x-python",
   "name": "python",
   "nbconvert_exporter": "python",
   "pygments_lexer": "ipython3",
   "version": "3.11.10"
  }
 },
 "nbformat": 4,
 "nbformat_minor": 2
}
